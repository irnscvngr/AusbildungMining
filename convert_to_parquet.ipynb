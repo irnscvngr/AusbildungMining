{
 "cells": [
  {
   "cell_type": "code",
   "execution_count": 2,
   "id": "7b9e0a46",
   "metadata": {},
   "outputs": [],
   "source": [
    "import glob\n",
    "import pandas as pd"
   ]
  },
  {
   "cell_type": "code",
   "execution_count": 34,
   "id": "ba34a516",
   "metadata": {},
   "outputs": [
    {
     "data": {
      "text/plain": [
       "['C:/Users/patri/Downloads/gcp\\\\250901_Cloud_SQL_Export_2025-09-01 (20_03_04) arbeit_arbeitgeber.csv',\n",
       " 'C:/Users/patri/Downloads/gcp\\\\250901_Cloud_SQL_Export_2025-09-01 (20_05_51) arbeit_arbeitsort_plz.csv',\n",
       " 'C:/Users/patri/Downloads/gcp\\\\250901_Cloud_SQL_Export_2025-09-01 (20_06_57) arbeit_arbeitszeit.csv',\n",
       " 'C:/Users/patri/Downloads/gcp\\\\250901_Cloud_SQL_Export_2025-09-01 (20_08_05) arbeit_befristung.csv',\n",
       " 'C:/Users/patri/Downloads/gcp\\\\250901_Cloud_SQL_Export_2025-09-01 (20_09_02) arbeit_beruf.csv',\n",
       " 'C:/Users/patri/Downloads/gcp\\\\250901_Cloud_SQL_Export_2025-09-01 (20_09_47) arbeit_branche.csv']"
      ]
     },
     "execution_count": 34,
     "metadata": {},
     "output_type": "execute_result"
    }
   ],
   "source": [
    "folder = \"C:/Users/patri/Downloads/gcp/\"\n",
    "\n",
    "files = glob.glob(folder + '*')[:-1]\n",
    "files"
   ]
  },
  {
   "cell_type": "code",
   "execution_count": null,
   "id": "26cb776e",
   "metadata": {},
   "outputs": [
    {
     "name": "stdout",
     "output_type": "stream",
     "text": [
      "C:/Users/patri/Downloads/gcp//ArbeitsagenturMining_Arbeit_arbeitgeber_2025-09-01.parquet\n",
      "C:/Users/patri/Downloads/gcp//ArbeitsagenturMining_Arbeit_arbeitsort_plz_2025-09-01.parquet\n",
      "C:/Users/patri/Downloads/gcp//ArbeitsagenturMining_Arbeit_arbeitszeit_2025-09-01.parquet\n",
      "C:/Users/patri/Downloads/gcp//ArbeitsagenturMining_Arbeit_befristung_2025-09-01.parquet\n",
      "C:/Users/patri/Downloads/gcp//ArbeitsagenturMining_Arbeit_beruf_2025-09-01.parquet\n",
      "C:/Users/patri/Downloads/gcp//ArbeitsagenturMining_Arbeit_branche_2025-09-01.parquet\n"
     ]
    }
   ],
   "source": [
    "for f in files:\n",
    "    new_name = f.split('.csv')[0]# + '.parquet'\n",
    "    new_name = new_name.split(')')[1].strip()\n",
    "    new_name = \"ArbeitsagenturMining_Arbeit_\" + new_name.split('arbeit_')[1] + \"_2025-09-01.parquet\"\n",
    "    filename = folder + '/' + new_name\n",
    "    print(filename)\n",
    "    df_tmp = pd.read_csv(f)\n",
    "    df_tmp.to_parquet(filename)"
   ]
  },
  {
   "cell_type": "code",
   "execution_count": 3,
   "id": "5cdb3b21",
   "metadata": {},
   "outputs": [],
   "source": [
    "folder = \"frontend_streamlit/data/AusbildungMining/\"\n",
    "\n",
    "files = glob.glob(folder + '*')"
   ]
  },
  {
   "cell_type": "code",
   "execution_count": 4,
   "id": "5709faf3",
   "metadata": {},
   "outputs": [
    {
     "data": {
      "application/vnd.microsoft.datawrangler.viewer.v0+json": {
       "columns": [
        {
         "name": "index",
         "rawType": "int64",
         "type": "integer"
        },
        {
         "name": "1",
         "rawType": "int64",
         "type": "integer"
        },
        {
         "name": "2025-03-04 20:42:02.679621",
         "rawType": "object",
         "type": "string"
        },
        {
         "name": "Schleswig-Holstein",
         "rawType": "object",
         "type": "string"
        },
        {
         "name": " Witt PERSONALSERVICE GmbH",
         "rawType": "object",
         "type": "string"
        },
        {
         "name": "56",
         "rawType": "int64",
         "type": "integer"
        }
       ],
       "ref": "a7404874-9ad9-41a8-9094-e60869f93c10",
       "rows": [
        [
         "0",
         "2",
         "2025-03-04 20:42:02.679621",
         "Schleswig-Holstein",
         "ARWA Personaldienstleistungen GmbH",
         "55"
        ],
        [
         "1",
         "3",
         "2025-03-04 20:42:02.679621",
         "Schleswig-Holstein",
         "AWO Landesverband Schleswig-Holstein e.V.",
         "41"
        ],
        [
         "2",
         "4",
         "2025-03-04 20:42:02.679621",
         "Schleswig-Holstein",
         "AWO Pflege Schleswig-Holstein gGmbH",
         "76"
        ],
        [
         "3",
         "5",
         "2025-03-04 20:42:02.679621",
         "Schleswig-Holstein",
         "Action Deutschland GmbH",
         "35"
        ],
        [
         "4",
         "6",
         "2025-03-04 20:42:02.679621",
         "Schleswig-Holstein",
         "AfA Agentur fuer Arbeitsvermittlung AG",
         "40"
        ],
        [
         "5",
         "7",
         "2025-03-04 20:42:02.679621",
         "Schleswig-Holstein",
         "Aide GmbH Flensburg",
         "32"
        ],
        [
         "6",
         "8",
         "2025-03-04 20:42:02.679621",
         "Schleswig-Holstein",
         "Alloheim Senioren-Residenzen SE",
         "142"
        ],
        [
         "7",
         "9",
         "2025-03-04 20:42:02.679621",
         "Schleswig-Holstein",
         "Amt Itzstedt",
         "31"
        ],
        [
         "8",
         "10",
         "2025-03-04 20:42:02.679621",
         "Schleswig-Holstein",
         "BAV Dienstsitz Aurich",
         "31"
        ],
        [
         "9",
         "11",
         "2025-03-04 20:42:02.679621",
         "Schleswig-Holstein",
         "Bartels-Langness Handelsgesell schaft mbH & Co. KG",
         "48"
        ],
        [
         "10",
         "12",
         "2025-03-04 20:42:02.679621",
         "Schleswig-Holstein",
         "Bodo Wascher Holding GmbH & Co. KG",
         "47"
        ],
        [
         "11",
         "13",
         "2025-03-04 20:42:02.679621",
         "Schleswig-Holstein",
         "Brunel GmbH NL Kiel",
         "44"
        ],
        [
         "12",
         "14",
         "2025-03-04 20:42:02.679621",
         "Schleswig-Holstein",
         "Bruecke Rendsburg-Eckernfoerde e.V.",
         "56"
        ],
        [
         "13",
         "15",
         "2025-03-04 20:42:02.679621",
         "Schleswig-Holstein",
         "Bundesamt fuer das Personalmanagement der Bundeswehr",
         "77"
        ],
        [
         "14",
         "16",
         "2025-03-04 20:42:02.679621",
         "Schleswig-Holstein",
         "CITTI Handelsgesellschaft mbH & Co. KG",
         "50"
        ],
        [
         "15",
         "17",
         "2025-03-04 20:42:02.679621",
         "Schleswig-Holstein",
         "CONVENT Personalmanagement GmbH",
         "76"
        ],
        [
         "16",
         "18",
         "2025-03-04 20:42:02.679621",
         "Schleswig-Holstein",
         "Christian-Albrechts- Universitaet zu Kiel (CAU)",
         "33"
        ],
        [
         "17",
         "19",
         "2025-03-04 20:42:02.679621",
         "Schleswig-Holstein",
         "DEKRA Arbeit GmbH",
         "39"
        ],
        [
         "18",
         "20",
         "2025-03-04 20:42:02.679621",
         "Schleswig-Holstein",
         "DIS AG",
         "105"
        ],
        [
         "19",
         "21",
         "2025-03-04 20:42:02.679621",
         "Schleswig-Holstein",
         "Dataport Recruiting",
         "52"
        ],
        [
         "20",
         "22",
         "2025-03-04 20:42:02.679621",
         "Schleswig-Holstein",
         "Denker & Wulf AG",
         "32"
        ],
        [
         "21",
         "23",
         "2025-03-04 20:42:02.679621",
         "Schleswig-Holstein",
         "Deutsche Bahn AG",
         "48"
        ],
        [
         "22",
         "24",
         "2025-03-04 20:42:02.679621",
         "Schleswig-Holstein",
         "Deutsche Post AG Zentrale",
         "106"
        ],
        [
         "23",
         "25",
         "2025-03-04 20:42:02.679621",
         "Schleswig-Holstein",
         "Draegerwerk AG & Co. KGaA",
         "50"
        ],
        [
         "24",
         "26",
         "2025-03-04 20:42:02.679621",
         "Schleswig-Holstein",
         "Ev.-Luth. Kirchenkreis Dithmarschen KiTa-Werk u KiTa Meldorf",
         "53"
        ],
        [
         "25",
         "27",
         "2025-03-04 20:42:02.679621",
         "Schleswig-Holstein",
         "Ev.-Luth. Kita-Werk Hamburg-West/Suedholstein",
         "63"
        ],
        [
         "26",
         "28",
         "2025-03-04 20:42:02.679621",
         "Schleswig-Holstein",
         "FAMILA-Handelsmarkt Kiel GmbH & Co. KG",
         "84"
        ],
        [
         "27",
         "29",
         "2025-03-04 20:42:02.679621",
         "Schleswig-Holstein",
         "FERCHAU GmbH Niederlassung Elmshorn",
         "84"
        ],
        [
         "28",
         "30",
         "2025-03-04 20:42:02.679621",
         "Schleswig-Holstein",
         "FERCHAU GmbH Niederlassung Hamburg-City",
         "41"
        ],
        [
         "29",
         "31",
         "2025-03-04 20:42:02.679621",
         "Schleswig-Holstein",
         "FERCHAU GmbH Niederlassung Kiel",
         "227"
        ],
        [
         "30",
         "32",
         "2025-03-04 20:42:02.679621",
         "Schleswig-Holstein",
         "FERCHAU GmbH Niederlassung Luebeck",
         "50"
        ],
        [
         "31",
         "33",
         "2025-03-04 20:42:02.679621",
         "Schleswig-Holstein",
         "Frielingsdorf Nord GmbH",
         "394"
        ],
        [
         "32",
         "34",
         "2025-03-04 20:42:02.679621",
         "Schleswig-Holstein",
         "Gebaeudereinigung Oezer GmbH",
         "54"
        ],
        [
         "33",
         "35",
         "2025-03-04 20:42:02.679621",
         "Schleswig-Holstein",
         "Guenter Suellau GmbH    ",
         "39"
        ],
        [
         "34",
         "36",
         "2025-03-04 20:42:02.679621",
         "Schleswig-Holstein",
         "H. & J. Brueggen KG",
         "34"
        ],
        [
         "35",
         "37",
         "2025-03-04 20:42:02.679621",
         "Schleswig-Holstein",
         "HIT Personaldienstleistungen GmbH Hamburg",
         "50"
        ],
        [
         "36",
         "38",
         "2025-03-04 20:42:02.679621",
         "Schleswig-Holstein",
         "Hansestadt Luebeck",
         "41"
        ],
        [
         "37",
         "39",
         "2025-03-04 20:42:02.679621",
         "Schleswig-Holstein",
         "ITU Dienstleistungen GmbH",
         "38"
        ],
        [
         "38",
         "40",
         "2025-03-04 20:42:02.679621",
         "Schleswig-Holstein",
         "Investitionsbank Schleswig-Holstein",
         "43"
        ],
        [
         "39",
         "41",
         "2025-03-04 20:42:02.679621",
         "Schleswig-Holstein",
         "JOBAG Medicare Service GmbH",
         "111"
        ],
        [
         "40",
         "42",
         "2025-03-04 20:42:02.679621",
         "Schleswig-Holstein",
         "Jobacademy",
         "79"
        ],
        [
         "41",
         "43",
         "2025-03-04 20:42:02.679621",
         "Schleswig-Holstein",
         "Johanniter-Unfall-Hilfe e.V. Landesverband Nord",
         "58"
        ],
        [
         "42",
         "44",
         "2025-03-04 20:42:02.679621",
         "Schleswig-Holstein",
         "KURT Personal GmbH",
         "46"
        ],
        [
         "43",
         "45",
         "2025-03-04 20:42:02.679621",
         "Schleswig-Holstein",
         "Klinikum und Seniorenzentrum Itzehoe ZV des Kreises Steinburg und der Stadt IZ",
         "52"
        ],
        [
         "44",
         "46",
         "2025-03-04 20:42:02.679621",
         "Schleswig-Holstein",
         "Klueh Cleaning GmbH",
         "32"
        ],
        [
         "45",
         "47",
         "2025-03-04 20:42:02.679621",
         "Schleswig-Holstein",
         "Knoop Personal-Service GmbH",
         "85"
        ],
        [
         "46",
         "48",
         "2025-03-04 20:42:02.679621",
         "Schleswig-Holstein",
         "Landesverein fuer Innere Mission in Schleswig-Holstein",
         "75"
        ],
        [
         "47",
         "49",
         "2025-03-04 20:42:02.679621",
         "Schleswig-Holstein",
         "Lidl Vertriebs- GmbH & Co. KG",
         "216"
        ],
        [
         "48",
         "50",
         "2025-03-04 20:42:02.679621",
         "Schleswig-Holstein",
         "Manpower Personaldienstl. GmbH",
         "38"
        ],
        [
         "49",
         "51",
         "2025-03-04 20:42:02.679621",
         "Schleswig-Holstein",
         "Media-Saturn Deutschland GmbH",
         "60"
        ]
       ],
       "shape": {
        "columns": 5,
        "rows": 239799
       }
      },
      "text/html": [
       "<div>\n",
       "<style scoped>\n",
       "    .dataframe tbody tr th:only-of-type {\n",
       "        vertical-align: middle;\n",
       "    }\n",
       "\n",
       "    .dataframe tbody tr th {\n",
       "        vertical-align: top;\n",
       "    }\n",
       "\n",
       "    .dataframe thead th {\n",
       "        text-align: right;\n",
       "    }\n",
       "</style>\n",
       "<table border=\"1\" class=\"dataframe\">\n",
       "  <thead>\n",
       "    <tr style=\"text-align: right;\">\n",
       "      <th></th>\n",
       "      <th>1</th>\n",
       "      <th>2025-03-04 20:42:02.679621</th>\n",
       "      <th>Schleswig-Holstein</th>\n",
       "      <th>Witt PERSONALSERVICE GmbH</th>\n",
       "      <th>56</th>\n",
       "    </tr>\n",
       "  </thead>\n",
       "  <tbody>\n",
       "    <tr>\n",
       "      <th>0</th>\n",
       "      <td>2</td>\n",
       "      <td>2025-03-04 20:42:02.679621</td>\n",
       "      <td>Schleswig-Holstein</td>\n",
       "      <td>ARWA Personaldienstleistungen GmbH</td>\n",
       "      <td>55</td>\n",
       "    </tr>\n",
       "    <tr>\n",
       "      <th>1</th>\n",
       "      <td>3</td>\n",
       "      <td>2025-03-04 20:42:02.679621</td>\n",
       "      <td>Schleswig-Holstein</td>\n",
       "      <td>AWO Landesverband Schleswig-Holstein e.V.</td>\n",
       "      <td>41</td>\n",
       "    </tr>\n",
       "    <tr>\n",
       "      <th>2</th>\n",
       "      <td>4</td>\n",
       "      <td>2025-03-04 20:42:02.679621</td>\n",
       "      <td>Schleswig-Holstein</td>\n",
       "      <td>AWO Pflege Schleswig-Holstein gGmbH</td>\n",
       "      <td>76</td>\n",
       "    </tr>\n",
       "    <tr>\n",
       "      <th>3</th>\n",
       "      <td>5</td>\n",
       "      <td>2025-03-04 20:42:02.679621</td>\n",
       "      <td>Schleswig-Holstein</td>\n",
       "      <td>Action Deutschland GmbH</td>\n",
       "      <td>35</td>\n",
       "    </tr>\n",
       "    <tr>\n",
       "      <th>4</th>\n",
       "      <td>6</td>\n",
       "      <td>2025-03-04 20:42:02.679621</td>\n",
       "      <td>Schleswig-Holstein</td>\n",
       "      <td>AfA Agentur fuer Arbeitsvermittlung AG</td>\n",
       "      <td>40</td>\n",
       "    </tr>\n",
       "    <tr>\n",
       "      <th>...</th>\n",
       "      <td>...</td>\n",
       "      <td>...</td>\n",
       "      <td>...</td>\n",
       "      <td>...</td>\n",
       "      <td>...</td>\n",
       "    </tr>\n",
       "    <tr>\n",
       "      <th>239794</th>\n",
       "      <td>239796</td>\n",
       "      <td>2025-09-01 01:01:07.4845</td>\n",
       "      <td>Thüringen</td>\n",
       "      <td>persona service AG &amp; Co. KG Niederlassung Nord...</td>\n",
       "      <td>103</td>\n",
       "    </tr>\n",
       "    <tr>\n",
       "      <th>239795</th>\n",
       "      <td>239797</td>\n",
       "      <td>2025-09-01 01:01:07.4845</td>\n",
       "      <td>Thüringen</td>\n",
       "      <td>spp direkt Jena GmbH Niederlassung Sonneberg</td>\n",
       "      <td>64</td>\n",
       "    </tr>\n",
       "    <tr>\n",
       "      <th>239796</th>\n",
       "      <td>239798</td>\n",
       "      <td>2025-09-01 01:01:07.4845</td>\n",
       "      <td>Thüringen</td>\n",
       "      <td>teamkompetent GmbH Personaldienstleistungen</td>\n",
       "      <td>41</td>\n",
       "    </tr>\n",
       "    <tr>\n",
       "      <th>239797</th>\n",
       "      <td>239799</td>\n",
       "      <td>2025-09-01 01:01:07.4845</td>\n",
       "      <td>Thüringen</td>\n",
       "      <td>time company Personal Service GmbH - GS Schleiz</td>\n",
       "      <td>32</td>\n",
       "    </tr>\n",
       "    <tr>\n",
       "      <th>239798</th>\n",
       "      <td>239800</td>\n",
       "      <td>2025-09-01 01:01:07.4845</td>\n",
       "      <td>Thüringen</td>\n",
       "      <td>zollsoft GmbH</td>\n",
       "      <td>28</td>\n",
       "    </tr>\n",
       "  </tbody>\n",
       "</table>\n",
       "<p>239799 rows × 5 columns</p>\n",
       "</div>"
      ],
      "text/plain": [
       "             1  2025-03-04 20:42:02.679621  Schleswig-Holstein  \\\n",
       "0            2  2025-03-04 20:42:02.679621  Schleswig-Holstein   \n",
       "1            3  2025-03-04 20:42:02.679621  Schleswig-Holstein   \n",
       "2            4  2025-03-04 20:42:02.679621  Schleswig-Holstein   \n",
       "3            5  2025-03-04 20:42:02.679621  Schleswig-Holstein   \n",
       "4            6  2025-03-04 20:42:02.679621  Schleswig-Holstein   \n",
       "...        ...                         ...                 ...   \n",
       "239794  239796    2025-09-01 01:01:07.4845           Thüringen   \n",
       "239795  239797    2025-09-01 01:01:07.4845           Thüringen   \n",
       "239796  239798    2025-09-01 01:01:07.4845           Thüringen   \n",
       "239797  239799    2025-09-01 01:01:07.4845           Thüringen   \n",
       "239798  239800    2025-09-01 01:01:07.4845           Thüringen   \n",
       "\n",
       "                                Witt PERSONALSERVICE GmbH   56  \n",
       "0                      ARWA Personaldienstleistungen GmbH   55  \n",
       "1               AWO Landesverband Schleswig-Holstein e.V.   41  \n",
       "2                     AWO Pflege Schleswig-Holstein gGmbH   76  \n",
       "3                                 Action Deutschland GmbH   35  \n",
       "4                  AfA Agentur fuer Arbeitsvermittlung AG   40  \n",
       "...                                                   ...  ...  \n",
       "239794  persona service AG & Co. KG Niederlassung Nord...  103  \n",
       "239795       spp direkt Jena GmbH Niederlassung Sonneberg   64  \n",
       "239796        teamkompetent GmbH Personaldienstleistungen   41  \n",
       "239797    time company Personal Service GmbH - GS Schleiz   32  \n",
       "239798                                  zollsoft GmbH       28  \n",
       "\n",
       "[239799 rows x 5 columns]"
      ]
     },
     "execution_count": 4,
     "metadata": {},
     "output_type": "execute_result"
    }
   ],
   "source": [
    "pd.read_parquet(files[0])"
   ]
  },
  {
   "cell_type": "code",
   "execution_count": 13,
   "id": "8f913032",
   "metadata": {},
   "outputs": [
    {
     "data": {
      "application/vnd.microsoft.datawrangler.viewer.v0+json": {
       "columns": [
        {
         "name": "index",
         "rawType": "int64",
         "type": "integer"
        },
        {
         "name": "id",
         "rawType": "int64",
         "type": "integer"
        },
        {
         "name": "timestamp",
         "rawType": "datetime64[ns]",
         "type": "datetime"
        },
        {
         "name": "bundesland",
         "rawType": "object",
         "type": "string"
        },
        {
         "name": "branche",
         "rawType": "object",
         "type": "string"
        },
        {
         "name": "stellen",
         "rawType": "int64",
         "type": "integer"
        }
       ],
       "ref": "cd1363ec-8027-4bf4-b9db-a2a2b18f877b",
       "rows": [
        [
         "0",
         "897",
         "2025-03-04 19:15:58.863996",
         "Schleswig-Holstein",
         "Bau, Architektur",
         "2052"
        ],
        [
         "1",
         "898",
         "2025-03-04 19:15:58.863996",
         "Schleswig-Holstein",
         "Hotel, Gaststaetten, Tourismus, Kunst, Kultur, Freizeit",
         "1056"
        ],
        [
         "2",
         "899",
         "2025-03-04 19:15:58.863996",
         "Schleswig-Holstein",
         "IT, Computer, Telekommunikation",
         "342"
        ],
        [
         "3",
         "900",
         "2025-03-04 19:15:58.863996",
         "Schleswig-Holstein",
         "Landwirtschaft, Forstwirtschaft, Gartenbau",
         "346"
        ],
        [
         "4",
         "901",
         "2025-03-04 19:15:58.863996",
         "Schleswig-Holstein",
         "Management, Beratung, Recht, Steuern",
         "1880"
        ],
        [
         "5",
         "902",
         "2025-03-04 19:15:58.863996",
         "Schleswig-Holstein",
         "Medien, Informationsdienste",
         "5"
        ],
        [
         "6",
         "903",
         "2025-03-04 19:15:58.863996",
         "Schleswig-Holstein",
         "Metall, Maschinenbau, Anlagenbau",
         "624"
        ],
        [
         "7",
         "904",
         "2025-03-04 19:15:58.863996",
         "Schleswig-Holstein",
         "Konsum- und Gebrauchsgueter",
         "62"
        ],
        [
         "8",
         "905",
         "2025-03-04 19:15:58.863996",
         "Schleswig-Holstein",
         "Nahrungs- / Genussmittelherstellung",
         "369"
        ],
        [
         "9",
         "906",
         "2025-03-04 19:15:58.863996",
         "Schleswig-Holstein",
         "Oeffentlicher Dienst, Organisationen",
         "629"
        ],
        [
         "10",
         "907",
         "2025-03-04 19:15:58.863996",
         "Schleswig-Holstein",
         "Papier, Druck, Verpackung",
         "86"
        ],
        [
         "11",
         "908",
         "2025-03-04 19:15:58.863996",
         "Schleswig-Holstein",
         "Chemie, Pharma, Biotechnologie",
         "153"
        ],
        [
         "12",
         "909",
         "2025-03-04 19:15:58.863996",
         "Schleswig-Holstein",
         "Rohstoffgewinnung, Rohstoffaufbereitung",
         "5"
        ],
        [
         "13",
         "910",
         "2025-03-04 19:15:58.863996",
         "Schleswig-Holstein",
         "Logistik, Transport, Verkehr",
         "445"
        ],
        [
         "14",
         "911",
         "2025-03-04 19:15:58.863996",
         "Schleswig-Holstein",
         "Abfallwirtschaft, Energieversorgung, Wasserversorgung",
         "231"
        ],
        [
         "15",
         "912",
         "2025-03-04 19:15:58.863996",
         "Schleswig-Holstein",
         "Sicherheits-, Reinigungs- oder Reparaturdienstleistungen",
         "569"
        ],
        [
         "16",
         "913",
         "2025-03-04 19:15:58.863996",
         "Schleswig-Holstein",
         "Werbung, Oeffentlichkeitsarbeit",
         "35"
        ],
        [
         "17",
         "914",
         "2025-03-04 19:15:58.863996",
         "Schleswig-Holstein",
         "Wissenschaft, Forschung, Entwicklung",
         "25"
        ],
        [
         "18",
         "915",
         "2025-03-04 19:15:58.863996",
         "Schleswig-Holstein",
         "Arbeitsvermittlung, privat",
         "27"
        ],
        [
         "19",
         "916",
         "2025-03-04 19:15:58.863996",
         "Schleswig-Holstein",
         "Arbeitnehmerueberlassung, Zeitarbeit",
         "4873"
        ],
        [
         "20",
         "917",
         "2025-03-04 19:15:58.863996",
         "Schleswig-Holstein",
         "Sonstige Dienstleistungen",
         "691"
        ],
        [
         "21",
         "918",
         "2025-03-04 19:15:58.863996",
         "Schleswig-Holstein",
         "Elektro, Feinmechanik, Optik, Medizintechnik",
         "329"
        ],
        [
         "22",
         "919",
         "2025-03-04 19:15:58.863996",
         "Schleswig-Holstein",
         "Bildung, Erziehung, Unterricht",
         "371"
        ],
        [
         "23",
         "920",
         "2025-03-04 19:15:58.863996",
         "Schleswig-Holstein",
         "Fahrzeugbau, Fahrzeuginstandhaltung",
         "449"
        ],
        [
         "24",
         "921",
         "2025-03-04 19:15:58.863996",
         "Schleswig-Holstein",
         "Banken, Finanzdienstleistungen, Immobilien, Versicherungen",
         "302"
        ],
        [
         "25",
         "922",
         "2025-03-04 19:15:58.863996",
         "Schleswig-Holstein",
         "Gesundheit, Soziales",
         "3098"
        ],
        [
         "26",
         "923",
         "2025-03-04 19:15:58.863996",
         "Schleswig-Holstein",
         "Rohstoffverarbeitung, Glas, Keramik, Kunststoff, Holz",
         "177"
        ],
        [
         "27",
         "924",
         "2025-03-04 19:15:58.863996",
         "Schleswig-Holstein",
         "Einzelhandel, Grosshandel, Aussenhandel",
         "2620"
        ],
        [
         "28",
         "925",
         "2025-03-04 19:15:58.863996",
         "Hamburg",
         "Bau, Architektur",
         "1432"
        ],
        [
         "29",
         "926",
         "2025-03-04 19:15:58.863996",
         "Hamburg",
         "Hotel, Gaststaetten, Tourismus, Kunst, Kultur, Freizeit",
         "401"
        ],
        [
         "30",
         "927",
         "2025-03-04 19:15:58.863996",
         "Hamburg",
         "IT, Computer, Telekommunikation",
         "711"
        ],
        [
         "31",
         "928",
         "2025-03-04 19:15:58.863996",
         "Hamburg",
         "Landwirtschaft, Forstwirtschaft, Gartenbau",
         "52"
        ],
        [
         "32",
         "929",
         "2025-03-04 19:15:58.863996",
         "Hamburg",
         "Management, Beratung, Recht, Steuern",
         "1460"
        ],
        [
         "33",
         "930",
         "2025-03-04 19:15:58.863996",
         "Hamburg",
         "Medien, Informationsdienste",
         "25"
        ],
        [
         "34",
         "931",
         "2025-03-04 19:15:58.863996",
         "Hamburg",
         "Metall, Maschinenbau, Anlagenbau",
         "302"
        ],
        [
         "35",
         "932",
         "2025-03-04 19:15:58.863996",
         "Hamburg",
         "Konsum- und Gebrauchsgueter",
         "17"
        ],
        [
         "36",
         "933",
         "2025-03-04 19:15:58.863996",
         "Hamburg",
         "Nahrungs- / Genussmittelherstellung",
         "96"
        ],
        [
         "37",
         "934",
         "2025-03-04 19:15:58.863996",
         "Hamburg",
         "Oeffentlicher Dienst, Organisationen",
         "108"
        ],
        [
         "38",
         "935",
         "2025-03-04 19:15:58.863996",
         "Hamburg",
         "Papier, Druck, Verpackung",
         "16"
        ],
        [
         "39",
         "936",
         "2025-03-04 19:15:58.863996",
         "Hamburg",
         "Chemie, Pharma, Biotechnologie",
         "116"
        ],
        [
         "40",
         "937",
         "2025-03-04 19:15:58.863996",
         "Hamburg",
         "Logistik, Transport, Verkehr",
         "655"
        ],
        [
         "41",
         "938",
         "2025-03-04 19:15:58.863996",
         "Hamburg",
         "Abfallwirtschaft, Energieversorgung, Wasserversorgung",
         "181"
        ],
        [
         "42",
         "939",
         "2025-03-04 19:15:58.863996",
         "Hamburg",
         "Sicherheits-, Reinigungs- oder Reparaturdienstleistungen",
         "353"
        ],
        [
         "43",
         "940",
         "2025-03-04 19:15:58.863996",
         "Hamburg",
         "Werbung, Oeffentlichkeitsarbeit",
         "58"
        ],
        [
         "44",
         "941",
         "2025-03-04 19:15:58.863996",
         "Hamburg",
         "Wissenschaft, Forschung, Entwicklung",
         "48"
        ],
        [
         "45",
         "942",
         "2025-03-04 19:15:58.863996",
         "Hamburg",
         "",
         "62"
        ],
        [
         "46",
         "943",
         "2025-03-04 19:15:58.863996",
         "Hamburg",
         "Arbeitsvermittlung, privat",
         "27"
        ],
        [
         "47",
         "944",
         "2025-03-04 19:15:58.863996",
         "Hamburg",
         "Arbeitnehmerueberlassung, Zeitarbeit",
         "5740"
        ],
        [
         "48",
         "945",
         "2025-03-04 19:15:58.863996",
         "Hamburg",
         "Sonstige Dienstleistungen",
         "385"
        ],
        [
         "49",
         "946",
         "2025-03-04 19:15:58.863996",
         "Hamburg",
         "Elektro, Feinmechanik, Optik, Medizintechnik",
         "158"
        ]
       ],
       "shape": {
        "columns": 5,
        "rows": 15064
       }
      },
      "text/html": [
       "<div>\n",
       "<style scoped>\n",
       "    .dataframe tbody tr th:only-of-type {\n",
       "        vertical-align: middle;\n",
       "    }\n",
       "\n",
       "    .dataframe tbody tr th {\n",
       "        vertical-align: top;\n",
       "    }\n",
       "\n",
       "    .dataframe thead th {\n",
       "        text-align: right;\n",
       "    }\n",
       "</style>\n",
       "<table border=\"1\" class=\"dataframe\">\n",
       "  <thead>\n",
       "    <tr style=\"text-align: right;\">\n",
       "      <th></th>\n",
       "      <th>id</th>\n",
       "      <th>timestamp</th>\n",
       "      <th>bundesland</th>\n",
       "      <th>branche</th>\n",
       "      <th>stellen</th>\n",
       "    </tr>\n",
       "  </thead>\n",
       "  <tbody>\n",
       "    <tr>\n",
       "      <th>0</th>\n",
       "      <td>897</td>\n",
       "      <td>2025-03-04 19:15:58.863996</td>\n",
       "      <td>Schleswig-Holstein</td>\n",
       "      <td>Bau, Architektur</td>\n",
       "      <td>2052</td>\n",
       "    </tr>\n",
       "    <tr>\n",
       "      <th>1</th>\n",
       "      <td>898</td>\n",
       "      <td>2025-03-04 19:15:58.863996</td>\n",
       "      <td>Schleswig-Holstein</td>\n",
       "      <td>Hotel, Gaststaetten, Tourismus, Kunst, Kultur,...</td>\n",
       "      <td>1056</td>\n",
       "    </tr>\n",
       "    <tr>\n",
       "      <th>2</th>\n",
       "      <td>899</td>\n",
       "      <td>2025-03-04 19:15:58.863996</td>\n",
       "      <td>Schleswig-Holstein</td>\n",
       "      <td>IT, Computer, Telekommunikation</td>\n",
       "      <td>342</td>\n",
       "    </tr>\n",
       "    <tr>\n",
       "      <th>3</th>\n",
       "      <td>900</td>\n",
       "      <td>2025-03-04 19:15:58.863996</td>\n",
       "      <td>Schleswig-Holstein</td>\n",
       "      <td>Landwirtschaft, Forstwirtschaft, Gartenbau</td>\n",
       "      <td>346</td>\n",
       "    </tr>\n",
       "    <tr>\n",
       "      <th>4</th>\n",
       "      <td>901</td>\n",
       "      <td>2025-03-04 19:15:58.863996</td>\n",
       "      <td>Schleswig-Holstein</td>\n",
       "      <td>Management, Beratung, Recht, Steuern</td>\n",
       "      <td>1880</td>\n",
       "    </tr>\n",
       "    <tr>\n",
       "      <th>...</th>\n",
       "      <td>...</td>\n",
       "      <td>...</td>\n",
       "      <td>...</td>\n",
       "      <td>...</td>\n",
       "      <td>...</td>\n",
       "    </tr>\n",
       "    <tr>\n",
       "      <th>15059</th>\n",
       "      <td>15956</td>\n",
       "      <td>2025-05-05 12:19:37.628238</td>\n",
       "      <td>Thüringen</td>\n",
       "      <td>Fahrzeugbau, Fahrzeuginstandhaltung</td>\n",
       "      <td>339</td>\n",
       "    </tr>\n",
       "    <tr>\n",
       "      <th>15060</th>\n",
       "      <td>15957</td>\n",
       "      <td>2025-05-05 12:19:37.628238</td>\n",
       "      <td>Thüringen</td>\n",
       "      <td>Banken, Finanzdienstleistungen, Immobilien, Ve...</td>\n",
       "      <td>198</td>\n",
       "    </tr>\n",
       "    <tr>\n",
       "      <th>15061</th>\n",
       "      <td>15958</td>\n",
       "      <td>2025-05-05 12:19:37.628238</td>\n",
       "      <td>Thüringen</td>\n",
       "      <td>Gesundheit, Soziales</td>\n",
       "      <td>2195</td>\n",
       "    </tr>\n",
       "    <tr>\n",
       "      <th>15062</th>\n",
       "      <td>15959</td>\n",
       "      <td>2025-05-05 12:19:37.628238</td>\n",
       "      <td>Thüringen</td>\n",
       "      <td>Rohstoffverarbeitung, Glas, Keramik, Kunststof...</td>\n",
       "      <td>608</td>\n",
       "    </tr>\n",
       "    <tr>\n",
       "      <th>15063</th>\n",
       "      <td>15960</td>\n",
       "      <td>2025-05-05 12:19:37.628238</td>\n",
       "      <td>Thüringen</td>\n",
       "      <td>Einzelhandel, Grosshandel, Aussenhandel</td>\n",
       "      <td>1529</td>\n",
       "    </tr>\n",
       "  </tbody>\n",
       "</table>\n",
       "<p>15064 rows × 5 columns</p>\n",
       "</div>"
      ],
      "text/plain": [
       "          id                  timestamp          bundesland  \\\n",
       "0        897 2025-03-04 19:15:58.863996  Schleswig-Holstein   \n",
       "1        898 2025-03-04 19:15:58.863996  Schleswig-Holstein   \n",
       "2        899 2025-03-04 19:15:58.863996  Schleswig-Holstein   \n",
       "3        900 2025-03-04 19:15:58.863996  Schleswig-Holstein   \n",
       "4        901 2025-03-04 19:15:58.863996  Schleswig-Holstein   \n",
       "...      ...                        ...                 ...   \n",
       "15059  15956 2025-05-05 12:19:37.628238           Thüringen   \n",
       "15060  15957 2025-05-05 12:19:37.628238           Thüringen   \n",
       "15061  15958 2025-05-05 12:19:37.628238           Thüringen   \n",
       "15062  15959 2025-05-05 12:19:37.628238           Thüringen   \n",
       "15063  15960 2025-05-05 12:19:37.628238           Thüringen   \n",
       "\n",
       "                                                 branche  stellen  \n",
       "0                                       Bau, Architektur     2052  \n",
       "1      Hotel, Gaststaetten, Tourismus, Kunst, Kultur,...     1056  \n",
       "2                        IT, Computer, Telekommunikation      342  \n",
       "3             Landwirtschaft, Forstwirtschaft, Gartenbau      346  \n",
       "4                   Management, Beratung, Recht, Steuern     1880  \n",
       "...                                                  ...      ...  \n",
       "15059                Fahrzeugbau, Fahrzeuginstandhaltung      339  \n",
       "15060  Banken, Finanzdienstleistungen, Immobilien, Ve...      198  \n",
       "15061                               Gesundheit, Soziales     2195  \n",
       "15062  Rohstoffverarbeitung, Glas, Keramik, Kunststof...      608  \n",
       "15063            Einzelhandel, Grosshandel, Aussenhandel     1529  \n",
       "\n",
       "[15064 rows x 5 columns]"
      ]
     },
     "execution_count": 13,
     "metadata": {},
     "output_type": "execute_result"
    }
   ],
   "source": [
    "pd.read_parquet(\"C:/Users/patri/Downloads/gcp/Neuer Ordner/ArbeitsagenturMining_Arbeit_branche_2025-05-05.parquet\")"
   ]
  }
 ],
 "metadata": {
  "kernelspec": {
   "display_name": "bigdata",
   "language": "python",
   "name": "python3"
  },
  "language_info": {
   "codemirror_mode": {
    "name": "ipython",
    "version": 3
   },
   "file_extension": ".py",
   "mimetype": "text/x-python",
   "name": "python",
   "nbconvert_exporter": "python",
   "pygments_lexer": "ipython3",
   "version": "3.12.9"
  }
 },
 "nbformat": 4,
 "nbformat_minor": 5
}
