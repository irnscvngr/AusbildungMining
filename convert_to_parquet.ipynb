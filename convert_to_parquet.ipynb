{
 "cells": [
  {
   "cell_type": "code",
   "execution_count": 5,
   "id": "7b9e0a46",
   "metadata": {},
   "outputs": [],
   "source": [
    "import glob\n",
    "import pandas as pd"
   ]
  },
  {
   "cell_type": "code",
   "execution_count": 12,
   "id": "ba34a516",
   "metadata": {},
   "outputs": [],
   "source": [
    "folder = \"C:/Users/patri/Downloads/gcp/\"\n",
    "\n",
    "files = glob.glob(folder + '*')"
   ]
  },
  {
   "cell_type": "code",
   "execution_count": 14,
   "id": "26cb776e",
   "metadata": {},
   "outputs": [],
   "source": [
    "for f in files:\n",
    "    new_name = f.split('.csv')[0] + '.parquet'\n",
    "    df_tmp = pd.read_csv(f)\n",
    "    df_tmp.to_parquet(new_name)"
   ]
  }
 ],
 "metadata": {
  "kernelspec": {
   "display_name": "bigdata",
   "language": "python",
   "name": "python3"
  },
  "language_info": {
   "codemirror_mode": {
    "name": "ipython",
    "version": 3
   },
   "file_extension": ".py",
   "mimetype": "text/x-python",
   "name": "python",
   "nbconvert_exporter": "python",
   "pygments_lexer": "ipython3",
   "version": "3.12.9"
  }
 },
 "nbformat": 4,
 "nbformat_minor": 5
}
