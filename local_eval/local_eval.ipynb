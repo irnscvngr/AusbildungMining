{
 "cells": [
  {
   "cell_type": "markdown",
   "id": "eb293cc7",
   "metadata": {},
   "source": [
    "# Local evaluation of Cloud SQL data\n",
    "\n",
    "This notebook is for local dev environments to inspect Cloud SQL data using Google Cloud SQL Auth Proxy Client."
   ]
  },
  {
   "cell_type": "markdown",
   "id": "15bd5a0e",
   "metadata": {},
   "source": [
    "## Import Libraries"
   ]
  },
  {
   "cell_type": "code",
   "execution_count": 75,
   "id": "4a4ac6f7",
   "metadata": {},
   "outputs": [],
   "source": [
    "import numpy as np\n",
    "import pandas as pd\n",
    "import sqlalchemy\n",
    "import plotly.express as px\n",
    "\n",
    "import os"
   ]
  },
  {
   "cell_type": "markdown",
   "id": "9e4ac6c5",
   "metadata": {},
   "source": [
    "---\n",
    "\n",
    "## Functions"
   ]
  },
  {
   "cell_type": "markdown",
   "id": "a8db0083",
   "metadata": {},
   "source": [
    "The following function creates an sqlalchemy engine to use for connecting to Cloud SQL."
   ]
  },
  {
   "cell_type": "code",
   "execution_count": null,
   "id": "0b481c1d",
   "metadata": {},
   "outputs": [],
   "source": [
    "def connect_tcp_socket() -> sqlalchemy.engine.base.Engine:\n",
    "    \"\"\"\n",
    "    Initializes a TCP connection pool for a Cloud SQL instance of Postgres.\n",
    "    \"\"\"\n",
    "    db_host = \"127.0.0.1\"\n",
    "    db_port = \"5432\"\n",
    "    db_user = \"postgres\"\n",
    "    db_pass = os.environ[\"gcp_postgres_pw\"]\n",
    "    db_name = os.environ[\"gcp_db_name\"]\n",
    "\n",
    "    pool = sqlalchemy.create_engine(\n",
    "        # Equivalent URL:\n",
    "        # postgresql+pg8000://<db_user>:<db_pass>@<db_host>:<db_port>/<db_name>\n",
    "        sqlalchemy.engine.url.URL.create(\n",
    "            drivername=\"postgresql+pg8000\",\n",
    "            username=db_user,\n",
    "            password=db_pass,\n",
    "            host=db_host,\n",
    "            port=db_port,\n",
    "            database=db_name,\n",
    "        ),\n",
    "        # ...\n",
    "    )\n",
    "    return pool\n"
   ]
  },
  {
   "cell_type": "markdown",
   "id": "308d4662",
   "metadata": {},
   "source": [
    "The following function queries a specified table from AusbildungMining's Cloud SQL and returns all content as pandas DataFrame:"
   ]
  },
  {
   "cell_type": "code",
   "execution_count": 76,
   "id": "8c176dd7",
   "metadata": {},
   "outputs": [],
   "source": [
    "engine = connect_tcp_socket()\n",
    "\n",
    "def execute_sql_query(table='beruf'):\n",
    "    with engine.connect() as conn:\n",
    "        # Construct your SQL query using the 'text' function\n",
    "        sql = sqlalchemy.text(f\"\"\"SELECT * FROM \"ArbeitsagenturMining\".arbeit_{table}\"\"\")\n",
    "\n",
    "        # Execute the query with parameters (recommended for security)\n",
    "        result = conn.execute(sql)\n",
    "\n",
    "        # Fetch the results\n",
    "        rows = result.fetchall()\n",
    "\n",
    "        return pd.DataFrame(rows)"
   ]
  },
  {
   "cell_type": "markdown",
   "id": "f82cada1",
   "metadata": {},
   "source": [
    "---\n",
    "\n",
    "## Single Query\n",
    "\n",
    "The following blocks perform a single query on one table.\n",
    "\n",
    "It ensures a working connection and enables a quick look into the data."
   ]
  },
  {
   "cell_type": "code",
   "execution_count": 77,
   "id": "ee455194",
   "metadata": {},
   "outputs": [],
   "source": [
    "param_select = 'beruf'"
   ]
  },
  {
   "cell_type": "code",
   "execution_count": 78,
   "id": "cbab98ba",
   "metadata": {},
   "outputs": [
    {
     "data": {
      "application/vnd.microsoft.datawrangler.viewer.v0+json": {
       "columns": [
        {
         "name": "index",
         "rawType": "int64",
         "type": "integer"
        },
        {
         "name": "id",
         "rawType": "int64",
         "type": "integer"
        },
        {
         "name": "timestamp",
         "rawType": "datetime64[ns]",
         "type": "datetime"
        },
        {
         "name": "bundesland",
         "rawType": "object",
         "type": "string"
        },
        {
         "name": "beruf",
         "rawType": "object",
         "type": "string"
        },
        {
         "name": "stellen",
         "rawType": "int64",
         "type": "integer"
        }
       ],
       "conversionMethod": "pd.DataFrame",
       "ref": "3180cf6f-a157-4e24-917c-f3f3c26da481",
       "rows": [
        [
         "0",
         "1",
         "2025-03-04 19:23:16.264654",
         "Schleswig-Holstein",
         "Altenpflegehelfer/in",
         "224"
        ],
        [
         "1",
         "2",
         "2025-03-04 19:23:16.264654",
         "Schleswig-Holstein",
         "Altenpfleger/in",
         "307"
        ],
        [
         "2",
         "3",
         "2025-03-04 19:23:16.264654",
         "Schleswig-Holstein",
         "Anlagenmechaniker/in",
         "60"
        ],
        [
         "3",
         "4",
         "2025-03-04 19:23:16.264654",
         "Schleswig-Holstein",
         "Anlagenmechaniker/in - Sanitaer-, Heizungs- und Klimatechnik",
         "226"
        ],
        [
         "4",
         "5",
         "2025-03-04 19:23:16.264654",
         "Schleswig-Holstein",
         "Auslieferungsfahrer/in (nicht Verkaufsfahrer/in)",
         "75"
        ],
        [
         "5",
         "6",
         "2025-03-04 19:23:16.264654",
         "Schleswig-Holstein",
         "Automobilkaufmann/-frau",
         "57"
        ],
        [
         "6",
         "7",
         "2025-03-04 19:23:16.264654",
         "Schleswig-Holstein",
         "Aussendienstmitarbeiter/in",
         "77"
        ],
        [
         "7",
         "8",
         "2025-03-04 19:23:16.264654",
         "Schleswig-Holstein",
         "Bauleiter/in",
         "61"
        ],
        [
         "8",
         "9",
         "2025-03-04 19:23:16.264654",
         "Schleswig-Holstein",
         "Berufskraftfahrer/in",
         "304"
        ],
        [
         "9",
         "10",
         "2025-03-04 19:23:16.264654",
         "Schleswig-Holstein",
         "Betreuungskraft / Alltagsbegleiter/in",
         "88"
        ],
        [
         "10",
         "11",
         "2025-03-04 19:23:16.264654",
         "Schleswig-Holstein",
         "Betriebsschlosser/in",
         "82"
        ],
        [
         "11",
         "12",
         "2025-03-04 19:23:16.264654",
         "Schleswig-Holstein",
         "Buchhalter/in",
         "146"
        ],
        [
         "12",
         "13",
         "2025-03-04 19:23:16.264654",
         "Schleswig-Holstein",
         "Buerokaufmann/-frau",
         "152"
        ],
        [
         "13",
         "14",
         "2025-03-04 19:23:16.264654",
         "Schleswig-Holstein",
         "CNC-Dreher/in",
         "58"
        ],
        [
         "14",
         "15",
         "2025-03-04 19:23:16.264654",
         "Schleswig-Holstein",
         "CNC-Fraeser/in",
         "66"
        ],
        [
         "15",
         "16",
         "2025-03-04 19:23:16.264654",
         "Schleswig-Holstein",
         "Dachdecker/in",
         "66"
        ],
        [
         "16",
         "17",
         "2025-03-04 19:23:16.264654",
         "Schleswig-Holstein",
         "Einkaeufer/in",
         "77"
        ],
        [
         "17",
         "18",
         "2025-03-04 19:23:16.264654",
         "Schleswig-Holstein",
         "Einzelhandelskaufmann/-frau",
         "143"
        ],
        [
         "18",
         "19",
         "2025-03-04 19:23:16.264654",
         "Schleswig-Holstein",
         "Elektroinstallateur/in",
         "96"
        ],
        [
         "19",
         "20",
         "2025-03-04 19:23:16.264654",
         "Schleswig-Holstein",
         "Elektroniker/in - Betriebstechnik",
         "200"
        ],
        [
         "20",
         "21",
         "2025-03-04 19:23:16.264654",
         "Schleswig-Holstein",
         "Elektroniker/in - Energie- und Gebaeudetechnik",
         "255"
        ],
        [
         "21",
         "22",
         "2025-03-04 19:23:16.264654",
         "Schleswig-Holstein",
         "Elektroniker/in - Geraete und Systeme",
         "92"
        ],
        [
         "22",
         "23",
         "2025-03-04 19:23:16.264654",
         "Schleswig-Holstein",
         "Elektrotechnikermeister/in/B. Prof. Elektrotechn.-Handwerk",
         "66"
        ],
        [
         "23",
         "24",
         "2025-03-04 19:23:16.264654",
         "Schleswig-Holstein",
         "Ergotherapeut/in",
         "116"
        ],
        [
         "24",
         "25",
         "2025-03-04 19:23:16.264654",
         "Schleswig-Holstein",
         "Erzieher/in",
         "652"
        ],
        [
         "25",
         "26",
         "2025-03-04 19:23:16.264654",
         "Schleswig-Holstein",
         "Fachinformatiker/in - Systemintegration",
         "62"
        ],
        [
         "26",
         "27",
         "2025-03-04 19:23:16.264654",
         "Schleswig-Holstein",
         "Fachkraft - Kindertageseinrichtungen",
         "171"
        ],
        [
         "27",
         "28",
         "2025-03-04 19:23:16.264654",
         "Schleswig-Holstein",
         "Fachkraft - Lagerlogistik",
         "243"
        ],
        [
         "28",
         "29",
         "2025-03-04 19:23:16.264654",
         "Schleswig-Holstein",
         "Fachlagerist/in",
         "155"
        ],
        [
         "29",
         "30",
         "2025-03-04 19:23:16.264654",
         "Schleswig-Holstein",
         "Fachverkaeufer/in - Lebensmittelhandwerk (Baeckerei)",
         "121"
        ],
        [
         "30",
         "31",
         "2025-03-04 19:23:16.264654",
         "Schleswig-Holstein",
         "Fachverkaeufer/in - Lebensmittelhandwerk (Fleischerei)",
         "74"
        ],
        [
         "31",
         "32",
         "2025-03-04 19:23:16.264654",
         "Schleswig-Holstein",
         "Filialleiter/in, Verkaufsstellenleiter/in",
         "205"
        ],
        [
         "32",
         "33",
         "2025-03-04 19:23:16.264654",
         "Schleswig-Holstein",
         "Finanzbuchhalter/in",
         "60"
        ],
        [
         "33",
         "34",
         "2025-03-04 19:23:16.264654",
         "Schleswig-Holstein",
         "Friseur/in",
         "105"
        ],
        [
         "34",
         "35",
         "2025-03-04 19:23:16.264654",
         "Schleswig-Holstein",
         "Gabelstaplerfahrer/in",
         "245"
        ],
        [
         "35",
         "36",
         "2025-03-04 19:23:16.264654",
         "Schleswig-Holstein",
         "Gebaeudereiniger/in",
         "192"
        ],
        [
         "36",
         "37",
         "2025-03-04 19:23:16.264654",
         "Schleswig-Holstein",
         "Gesundheits- und Krankenpflegehelfer/in",
         "56"
        ],
        [
         "37",
         "38",
         "2025-03-04 19:23:16.264654",
         "Schleswig-Holstein",
         "Gesundheits- und Krankenpfleger/in",
         "243"
        ],
        [
         "38",
         "39",
         "2025-03-04 19:23:16.264654",
         "Schleswig-Holstein",
         "Gaertner/in - Garten- und Landschaftsbau",
         "145"
        ],
        [
         "39",
         "40",
         "2025-03-04 19:23:16.264654",
         "Schleswig-Holstein",
         "Hausmeister/in",
         "89"
        ],
        [
         "40",
         "41",
         "2025-03-04 19:23:16.264654",
         "Schleswig-Holstein",
         "Hauswirtschafter/in",
         "59"
        ],
        [
         "41",
         "42",
         "2025-03-04 19:23:16.264654",
         "Schleswig-Holstein",
         "Heilerziehungspfleger/in",
         "66"
        ],
        [
         "42",
         "43",
         "2025-03-04 19:23:16.264654",
         "Schleswig-Holstein",
         "Helfer/in - Chemie- und Pharmatechnik",
         "65"
        ],
        [
         "43",
         "44",
         "2025-03-04 19:23:16.264654",
         "Schleswig-Holstein",
         "Helfer/in - Elektro",
         "91"
        ],
        [
         "44",
         "45",
         "2025-03-04 19:23:16.264654",
         "Schleswig-Holstein",
         "Helfer/in - Gartenbau",
         "96"
        ],
        [
         "45",
         "46",
         "2025-03-04 19:23:16.264654",
         "Schleswig-Holstein",
         "Helfer/in - Hauswirtschaft",
         "57"
        ],
        [
         "46",
         "47",
         "2025-03-04 19:23:16.264654",
         "Schleswig-Holstein",
         "Helfer/in - Kurier-, Zustell- und Postdienstleistungen",
         "115"
        ],
        [
         "47",
         "48",
         "2025-03-04 19:23:16.264654",
         "Schleswig-Holstein",
         "Helfer/in - Kueche",
         "146"
        ],
        [
         "48",
         "49",
         "2025-03-04 19:23:16.264654",
         "Schleswig-Holstein",
         "Helfer/in - Lagerwirtschaft, Transport",
         "316"
        ],
        [
         "49",
         "50",
         "2025-03-04 19:23:16.264654",
         "Schleswig-Holstein",
         "Helfer/in - Lebensmittelherstellung",
         "147"
        ]
       ],
       "shape": {
        "columns": 5,
        "rows": 53300
       }
      },
      "text/html": [
       "<div>\n",
       "<style scoped>\n",
       "    .dataframe tbody tr th:only-of-type {\n",
       "        vertical-align: middle;\n",
       "    }\n",
       "\n",
       "    .dataframe tbody tr th {\n",
       "        vertical-align: top;\n",
       "    }\n",
       "\n",
       "    .dataframe thead th {\n",
       "        text-align: right;\n",
       "    }\n",
       "</style>\n",
       "<table border=\"1\" class=\"dataframe\">\n",
       "  <thead>\n",
       "    <tr style=\"text-align: right;\">\n",
       "      <th></th>\n",
       "      <th>id</th>\n",
       "      <th>timestamp</th>\n",
       "      <th>bundesland</th>\n",
       "      <th>beruf</th>\n",
       "      <th>stellen</th>\n",
       "    </tr>\n",
       "  </thead>\n",
       "  <tbody>\n",
       "    <tr>\n",
       "      <th>0</th>\n",
       "      <td>1</td>\n",
       "      <td>2025-03-04 19:23:16.264654</td>\n",
       "      <td>Schleswig-Holstein</td>\n",
       "      <td>Altenpflegehelfer/in</td>\n",
       "      <td>224</td>\n",
       "    </tr>\n",
       "    <tr>\n",
       "      <th>1</th>\n",
       "      <td>2</td>\n",
       "      <td>2025-03-04 19:23:16.264654</td>\n",
       "      <td>Schleswig-Holstein</td>\n",
       "      <td>Altenpfleger/in</td>\n",
       "      <td>307</td>\n",
       "    </tr>\n",
       "    <tr>\n",
       "      <th>2</th>\n",
       "      <td>3</td>\n",
       "      <td>2025-03-04 19:23:16.264654</td>\n",
       "      <td>Schleswig-Holstein</td>\n",
       "      <td>Anlagenmechaniker/in</td>\n",
       "      <td>60</td>\n",
       "    </tr>\n",
       "    <tr>\n",
       "      <th>3</th>\n",
       "      <td>4</td>\n",
       "      <td>2025-03-04 19:23:16.264654</td>\n",
       "      <td>Schleswig-Holstein</td>\n",
       "      <td>Anlagenmechaniker/in - Sanitaer-, Heizungs- un...</td>\n",
       "      <td>226</td>\n",
       "    </tr>\n",
       "    <tr>\n",
       "      <th>4</th>\n",
       "      <td>5</td>\n",
       "      <td>2025-03-04 19:23:16.264654</td>\n",
       "      <td>Schleswig-Holstein</td>\n",
       "      <td>Auslieferungsfahrer/in (nicht Verkaufsfahrer/in)</td>\n",
       "      <td>75</td>\n",
       "    </tr>\n",
       "    <tr>\n",
       "      <th>...</th>\n",
       "      <td>...</td>\n",
       "      <td>...</td>\n",
       "      <td>...</td>\n",
       "      <td>...</td>\n",
       "      <td>...</td>\n",
       "    </tr>\n",
       "    <tr>\n",
       "      <th>53295</th>\n",
       "      <td>53296</td>\n",
       "      <td>2025-05-06 01:00:41.223602</td>\n",
       "      <td>Thüringen</td>\n",
       "      <td>Tischler/in</td>\n",
       "      <td>126</td>\n",
       "    </tr>\n",
       "    <tr>\n",
       "      <th>53296</th>\n",
       "      <td>53297</td>\n",
       "      <td>2025-05-06 01:00:41.223602</td>\n",
       "      <td>Thüringen</td>\n",
       "      <td>Verkaeufer/in</td>\n",
       "      <td>587</td>\n",
       "    </tr>\n",
       "    <tr>\n",
       "      <th>53297</th>\n",
       "      <td>53298</td>\n",
       "      <td>2025-05-06 01:00:41.223602</td>\n",
       "      <td>Thüringen</td>\n",
       "      <td>Werkzeugmechaniker/in</td>\n",
       "      <td>63</td>\n",
       "    </tr>\n",
       "    <tr>\n",
       "      <th>53298</th>\n",
       "      <td>53299</td>\n",
       "      <td>2025-05-06 01:00:41.223602</td>\n",
       "      <td>Thüringen</td>\n",
       "      <td>Zahnmedizinische/r Fachangestellte/r</td>\n",
       "      <td>104</td>\n",
       "    </tr>\n",
       "    <tr>\n",
       "      <th>53299</th>\n",
       "      <td>53300</td>\n",
       "      <td>2025-05-06 01:00:41.223602</td>\n",
       "      <td>Thüringen</td>\n",
       "      <td>Zerspanungsmechaniker/in</td>\n",
       "      <td>157</td>\n",
       "    </tr>\n",
       "  </tbody>\n",
       "</table>\n",
       "<p>53300 rows × 5 columns</p>\n",
       "</div>"
      ],
      "text/plain": [
       "          id                  timestamp          bundesland  \\\n",
       "0          1 2025-03-04 19:23:16.264654  Schleswig-Holstein   \n",
       "1          2 2025-03-04 19:23:16.264654  Schleswig-Holstein   \n",
       "2          3 2025-03-04 19:23:16.264654  Schleswig-Holstein   \n",
       "3          4 2025-03-04 19:23:16.264654  Schleswig-Holstein   \n",
       "4          5 2025-03-04 19:23:16.264654  Schleswig-Holstein   \n",
       "...      ...                        ...                 ...   \n",
       "53295  53296 2025-05-06 01:00:41.223602           Thüringen   \n",
       "53296  53297 2025-05-06 01:00:41.223602           Thüringen   \n",
       "53297  53298 2025-05-06 01:00:41.223602           Thüringen   \n",
       "53298  53299 2025-05-06 01:00:41.223602           Thüringen   \n",
       "53299  53300 2025-05-06 01:00:41.223602           Thüringen   \n",
       "\n",
       "                                                   beruf  stellen  \n",
       "0                                   Altenpflegehelfer/in      224  \n",
       "1                                        Altenpfleger/in      307  \n",
       "2                                   Anlagenmechaniker/in       60  \n",
       "3      Anlagenmechaniker/in - Sanitaer-, Heizungs- un...      226  \n",
       "4       Auslieferungsfahrer/in (nicht Verkaufsfahrer/in)       75  \n",
       "...                                                  ...      ...  \n",
       "53295                                        Tischler/in      126  \n",
       "53296                                      Verkaeufer/in      587  \n",
       "53297                              Werkzeugmechaniker/in       63  \n",
       "53298               Zahnmedizinische/r Fachangestellte/r      104  \n",
       "53299                           Zerspanungsmechaniker/in      157  \n",
       "\n",
       "[53300 rows x 5 columns]"
      ]
     },
     "execution_count": 78,
     "metadata": {},
     "output_type": "execute_result"
    }
   ],
   "source": [
    "df = execute_sql_query(param_select)\n",
    "df"
   ]
  },
  {
   "cell_type": "code",
   "execution_count": 79,
   "id": "e7c199e6",
   "metadata": {},
   "outputs": [
    {
     "data": {
      "application/vnd.plotly.v1+json": {
       "config": {
        "plotlyServerURL": "https://plot.ly"
       },
       "data": [
        {
         "hovertemplate": "beruf=Anlagenmechaniker/in<br>timestamp=%{x}<br>stellen=%{y}<extra></extra>",
         "legendgroup": "Anlagenmechaniker/in",
         "line": {
          "color": "#636efa",
          "dash": "solid"
         },
         "marker": {
          "symbol": "circle"
         },
         "mode": "lines",
         "name": "Anlagenmechaniker/in",
         "orientation": "v",
         "showlegend": true,
         "type": "scatter",
         "x": [
          "2025-03-04T19:23:16.264654000",
          "2025-03-04T20:41:18.771664000",
          "2025-03-04T20:57:20.070534000",
          "2025-03-04T21:02:37.978862000",
          "2025-03-04T21:19:21.182059000",
          "2025-03-05T02:00:42.588486000",
          "2025-03-06T02:00:39.875002000",
          "2025-03-07T02:00:37.701298000",
          "2025-03-08T02:00:37.941081000",
          "2025-03-09T02:00:34.378618000",
          "2025-03-10T02:00:39.092721000",
          "2025-03-11T02:00:35.904417000",
          "2025-03-12T02:00:35.480836000",
          "2025-03-13T02:00:39.571861000",
          "2025-03-14T02:00:37.502181000",
          "2025-03-15T02:00:39.731097000",
          "2025-03-16T02:00:40.144076000",
          "2025-03-17T02:00:41.736131000",
          "2025-03-18T02:00:41.627238000",
          "2025-03-19T02:00:42.215958000",
          "2025-03-20T02:00:40.336596000",
          "2025-03-21T02:00:39.806079000",
          "2025-03-22T02:00:38.026244000",
          "2025-03-23T02:00:37.624323000",
          "2025-03-24T02:00:37.234682000",
          "2025-03-25T02:00:38.613484000",
          "2025-03-26T02:00:44.207128000",
          "2025-03-27T02:00:37.504188000",
          "2025-03-28T02:00:40.911189000",
          "2025-03-29T02:00:36.831626000",
          "2025-05-05T11:56:41.644715000",
          "2025-05-05T12:11:06.929539000",
          "2025-05-05T12:20:03.139150000",
          "2025-05-06T01:00:41.223602000"
         ],
         "xaxis": "x",
         "y": {
          "bdata": "iYiIiIgIY0CJiIiIiAhjQImIiIiICGNAiYiIiIgIY0CJiIiIiAhjQHd3d3d392JAZmZmZmZGY0AAAAAAAEBjQKuqqqqqSmNAiYiIiIgIY0Dv7u7u7g5jQO/u7u7uLmNAIiIiIiIiY0AiIiIiIkJjQHd3d3d3V2NAMzMzMzNzY0C8u7u7uztjQAAAAAAAQGNAVVVVVVV1Y0CJiIiIiGhjQImIiIiICGNAzczMzMzMYkAiIiIiIsJiQJqZmZmZuWJAERERERHRYkDe3d3d3d1iQJqZmZmZeWNAZmZmZmamY0C8u7u7u9tjQO/u7u7u7mNAmpmZmZm5ZECamZmZmblkQAAAAAAAUGJAIiIiIiKiZEA=",
          "dtype": "f8"
         },
         "yaxis": "y"
        },
        {
         "hovertemplate": "beruf=Callcenteragent/in<br>timestamp=%{x}<br>stellen=%{y}<extra></extra>",
         "legendgroup": "Callcenteragent/in",
         "line": {
          "color": "#EF553B",
          "dash": "solid"
         },
         "marker": {
          "symbol": "circle"
         },
         "mode": "lines",
         "name": "Callcenteragent/in",
         "orientation": "v",
         "showlegend": true,
         "type": "scatter",
         "x": [
          "2025-03-04T19:23:16.264654000",
          "2025-03-04T20:41:18.771664000",
          "2025-03-04T20:57:20.070534000",
          "2025-03-04T21:02:37.978862000",
          "2025-03-04T21:19:21.182059000",
          "2025-03-05T02:00:42.588486000",
          "2025-03-06T02:00:39.875002000",
          "2025-03-07T02:00:37.701298000",
          "2025-03-08T02:00:37.941081000",
          "2025-03-09T02:00:34.378618000",
          "2025-03-10T02:00:39.092721000",
          "2025-03-11T02:00:35.904417000",
          "2025-03-12T02:00:35.480836000",
          "2025-03-13T02:00:39.571861000",
          "2025-03-14T02:00:37.502181000",
          "2025-03-15T02:00:39.731097000",
          "2025-03-16T02:00:40.144076000",
          "2025-03-17T02:00:41.736131000",
          "2025-03-18T02:00:41.627238000",
          "2025-03-19T02:00:42.215958000",
          "2025-03-20T02:00:40.336596000",
          "2025-03-21T02:00:39.806079000",
          "2025-03-22T02:00:38.026244000",
          "2025-03-23T02:00:37.624323000",
          "2025-03-24T02:00:37.234682000",
          "2025-03-25T02:00:38.613484000",
          "2025-03-26T02:00:44.207128000",
          "2025-03-27T02:00:37.504188000",
          "2025-03-28T02:00:40.911189000",
          "2025-03-29T02:00:36.831626000",
          "2025-05-05T11:56:41.644715000",
          "2025-05-05T12:11:06.929539000",
          "2025-05-05T12:20:03.139150000",
          "2025-05-06T01:00:41.223602000"
         ],
         "xaxis": "x",
         "y": {
          "bdata": "AAAAAABgX0AAAAAAAGBfQAAAAAAAYF9AAAAAAABgX0AAAAAAAGBfQAAAAAAAUF9Aq6qqqqo6X0CrqqqqqppfQKuqqqqqql9AVVVVVVVlX0AAAAAAAGBfQFVVVVVVhV9Aq6qqqqrKX0AAAAAAAGBfQKuqqqqqWl9AAAAAAABgX0BVVVVVVaVeQFVVVVVV1V5Aq6qqqqo6X0AAAAAAAIBfQFVVVVVVBV9AVVVVVVUlX0CrqqqqqmpfQAAAAAAAUF9AVVVVVVVVX0BVVVVVVVVfQLrooosummBAjC666KKrYECjiy666MJgQLrooosuumBAZmZmZmZGYUCamZmZmUlhQAAAAAAAgE1AmpmZmZk5YUA=",
          "dtype": "f8"
         },
         "yaxis": "y"
        },
        {
         "hovertemplate": "beruf=ERP-Berater/in - ERP-Consultant<br>timestamp=%{x}<br>stellen=%{y}<extra></extra>",
         "legendgroup": "ERP-Berater/in - ERP-Consultant",
         "line": {
          "color": "#00cc96",
          "dash": "solid"
         },
         "marker": {
          "symbol": "circle"
         },
         "mode": "lines",
         "name": "ERP-Berater/in - ERP-Consultant",
         "orientation": "v",
         "showlegend": true,
         "type": "scatter",
         "x": [
          "2025-03-04T19:23:16.264654000",
          "2025-03-04T20:41:18.771664000",
          "2025-03-04T20:57:20.070534000",
          "2025-03-04T21:02:37.978862000",
          "2025-03-04T21:19:21.182059000",
          "2025-03-05T02:00:42.588486000",
          "2025-03-06T02:00:39.875002000",
          "2025-03-07T02:00:37.701298000",
          "2025-03-08T02:00:37.941081000",
          "2025-03-09T02:00:34.378618000",
          "2025-03-10T02:00:39.092721000",
          "2025-03-11T02:00:35.904417000",
          "2025-03-12T02:00:35.480836000",
          "2025-03-13T02:00:39.571861000",
          "2025-03-14T02:00:37.502181000",
          "2025-03-15T02:00:39.731097000",
          "2025-03-16T02:00:40.144076000",
          "2025-03-17T02:00:41.736131000",
          "2025-03-18T02:00:41.627238000",
          "2025-03-19T02:00:42.215958000",
          "2025-03-20T02:00:40.336596000",
          "2025-03-21T02:00:39.806079000",
          "2025-03-22T02:00:38.026244000",
          "2025-03-23T02:00:37.624323000",
          "2025-03-24T02:00:37.234682000",
          "2025-03-25T02:00:38.613484000",
          "2025-03-26T02:00:44.207128000",
          "2025-03-27T02:00:37.504188000",
          "2025-03-28T02:00:40.911189000",
          "2025-03-29T02:00:36.831626000",
          "2025-05-05T11:56:41.644715000",
          "2025-05-05T12:11:06.929539000",
          "2025-05-05T12:20:03.139150000",
          "2025-05-06T01:00:41.223602000"
         ],
         "xaxis": "x",
         "y": {
          "bdata": "AAAAAACAUkAAAAAAAIBSQAAAAAAAgFJAAAAAAACAUkAAAAAAAIBSQAAAAAAAQFJAAAAAAAAgUkAAAAAAAEBSQAAAAAAAwFFAAAAAAABAUUAAAAAAAABSQAAAAAAAoFFAAAAAAACgUUAAAAAAAIBQQAAAAAAAYFBAAAAAAABgUEAAAAAAAEBQQAAAAAAAYFBAAAAAAABAUEAAAAAAAGBQQAAAAAAAYFBAAAAAAADgUEAAAAAAAGBQQAAAAAAAgFBAAAAAAADAUEAAAAAAAOBQQAAAAAAAIFFAAAAAAADgUEAAAAAAAEBRQAAAAAAAgFFAAAAAAACARUAAAAAAAIBFQAAAAAAAQEFAAAAAAACARUA=",
          "dtype": "f8"
         },
         "yaxis": "y"
        },
        {
         "hovertemplate": "beruf=Elektroinstallateur/in<br>timestamp=%{x}<br>stellen=%{y}<extra></extra>",
         "legendgroup": "Elektroinstallateur/in",
         "line": {
          "color": "#ab63fa",
          "dash": "solid"
         },
         "marker": {
          "symbol": "circle"
         },
         "mode": "lines",
         "name": "Elektroinstallateur/in",
         "orientation": "v",
         "showlegend": true,
         "type": "scatter",
         "x": [
          "2025-03-04T19:23:16.264654000",
          "2025-03-04T20:41:18.771664000",
          "2025-03-04T20:57:20.070534000",
          "2025-03-04T21:02:37.978862000",
          "2025-03-04T21:19:21.182059000",
          "2025-03-05T02:00:42.588486000",
          "2025-03-06T02:00:39.875002000",
          "2025-03-07T02:00:37.701298000",
          "2025-03-08T02:00:37.941081000",
          "2025-03-09T02:00:34.378618000",
          "2025-03-10T02:00:39.092721000",
          "2025-03-11T02:00:35.904417000",
          "2025-03-12T02:00:35.480836000",
          "2025-03-13T02:00:39.571861000",
          "2025-03-14T02:00:37.502181000",
          "2025-03-15T02:00:39.731097000",
          "2025-03-16T02:00:40.144076000",
          "2025-03-17T02:00:41.736131000",
          "2025-03-18T02:00:41.627238000",
          "2025-03-19T02:00:42.215958000",
          "2025-03-20T02:00:40.336596000",
          "2025-03-21T02:00:39.806079000",
          "2025-03-22T02:00:38.026244000",
          "2025-03-23T02:00:37.624323000",
          "2025-03-24T02:00:37.234682000",
          "2025-03-25T02:00:38.613484000",
          "2025-03-26T02:00:44.207128000",
          "2025-03-27T02:00:37.504188000",
          "2025-03-28T02:00:40.911189000",
          "2025-03-29T02:00:36.831626000",
          "2025-05-05T11:56:41.644715000",
          "2025-05-05T12:11:06.929539000",
          "2025-05-05T12:20:03.139150000",
          "2025-05-06T01:00:41.223602000"
         ],
         "xaxis": "x",
         "y": {
          "bdata": "AAAAAADsb0AAAAAAAOxvQAAAAAAA7G9AAAAAAADsb0AAAAAAAOxvQAAAAAAA4G9AAAAAAAAQcEAAAAAAADVwQAAAAAAAJXBAAAAAAAATcEAAAAAAAANwQAAAAAAA+G9AAAAAAADub0AAAAAAALxvQAAAAAAAxG9AAAAAAACib0AAAAAAAGxvQAAAAAAAhm9AAAAAAAAAcEAAAAAAABRwQAAAAAAAA3BAAAAAAAANcEAAAAAAADJwQAAAAAAAK3BAAAAAAAAocEAAAAAAAEVwQAAAAAAAQXBAAAAAAAA3cEAAAAAAAEZwQAAAAAAAb3BAAAAAAABOcEAAAAAAAFBwQGZmZmZmRm1AAAAAAABRcEA=",
          "dtype": "f8"
         },
         "yaxis": "y"
        },
        {
         "hovertemplate": "beruf=Filialleiter/in, Verkaufsstellenleiter/in<br>timestamp=%{x}<br>stellen=%{y}<extra></extra>",
         "legendgroup": "Filialleiter/in, Verkaufsstellenleiter/in",
         "line": {
          "color": "#FFA15A",
          "dash": "solid"
         },
         "marker": {
          "symbol": "circle"
         },
         "mode": "lines",
         "name": "Filialleiter/in, Verkaufsstellenleiter/in",
         "orientation": "v",
         "showlegend": true,
         "type": "scatter",
         "x": [
          "2025-03-04T19:23:16.264654000",
          "2025-03-04T20:41:18.771664000",
          "2025-03-04T20:57:20.070534000",
          "2025-03-04T21:02:37.978862000",
          "2025-03-04T21:19:21.182059000",
          "2025-03-05T02:00:42.588486000",
          "2025-03-06T02:00:39.875002000",
          "2025-03-07T02:00:37.701298000",
          "2025-03-08T02:00:37.941081000",
          "2025-03-09T02:00:34.378618000",
          "2025-03-10T02:00:39.092721000",
          "2025-03-11T02:00:35.904417000",
          "2025-03-12T02:00:35.480836000",
          "2025-03-13T02:00:39.571861000",
          "2025-03-14T02:00:37.502181000",
          "2025-03-15T02:00:39.731097000",
          "2025-03-16T02:00:40.144076000",
          "2025-03-17T02:00:41.736131000",
          "2025-03-18T02:00:41.627238000",
          "2025-03-19T02:00:42.215958000",
          "2025-03-20T02:00:40.336596000",
          "2025-03-21T02:00:39.806079000",
          "2025-03-22T02:00:38.026244000",
          "2025-03-23T02:00:37.624323000",
          "2025-03-24T02:00:37.234682000",
          "2025-03-25T02:00:38.613484000",
          "2025-03-26T02:00:44.207128000",
          "2025-03-27T02:00:37.504188000",
          "2025-03-28T02:00:40.911189000",
          "2025-03-29T02:00:36.831626000",
          "2025-05-05T11:56:41.644715000",
          "2025-05-05T12:11:06.929539000",
          "2025-05-05T12:20:03.139150000",
          "2025-05-06T01:00:41.223602000"
         ],
         "xaxis": "x",
         "y": {
          "bdata": "AAAAAABddEAAAAAAAF10QAAAAAAAXXRAAAAAAABddEAAAAAAAF10QAAAAAAAWXRAAAAAAAB+dEAAAAAAAHF0QAAAAAAAXnRAAAAAAABVdEAAAAAAAEd0QAAAAAAAH3RAAAAAAAAIdEAAAAAAAPtzQAAAAAAAnHRAAAAAAACTdEAAAAAAAI50QAAAAAAAhnRAAAAAAAB9dEAAAAAAAJB0QAAAAAAAhnRAAAAAAACHdEAAAAAAAJF0QAAAAAAAkHRAAAAAAACVdEAAAAAAAG50QAAAAAAAZnRAAAAAAACCdEAAAAAAAGJ0QAAAAAAAbnRAAAAAAABycEAAAAAAAHJwQAAAAAAAgG1AAAAAAABycEA=",
          "dtype": "f8"
         },
         "yaxis": "y"
        },
        {
         "hovertemplate": "beruf=Pflegedienstleiter/in<br>timestamp=%{x}<br>stellen=%{y}<extra></extra>",
         "legendgroup": "Pflegedienstleiter/in",
         "line": {
          "color": "#19d3f3",
          "dash": "solid"
         },
         "marker": {
          "symbol": "circle"
         },
         "mode": "lines",
         "name": "Pflegedienstleiter/in",
         "orientation": "v",
         "showlegend": true,
         "type": "scatter",
         "x": [
          "2025-03-04T19:23:16.264654000",
          "2025-03-04T20:41:18.771664000",
          "2025-03-04T20:57:20.070534000",
          "2025-03-04T21:02:37.978862000",
          "2025-03-04T21:19:21.182059000",
          "2025-03-05T02:00:42.588486000",
          "2025-03-06T02:00:39.875002000",
          "2025-03-07T02:00:37.701298000",
          "2025-03-08T02:00:37.941081000",
          "2025-03-09T02:00:34.378618000",
          "2025-03-10T02:00:39.092721000",
          "2025-03-11T02:00:35.904417000",
          "2025-03-12T02:00:35.480836000",
          "2025-03-13T02:00:39.571861000",
          "2025-03-14T02:00:37.502181000",
          "2025-03-15T02:00:39.731097000",
          "2025-03-16T02:00:40.144076000",
          "2025-03-17T02:00:41.736131000",
          "2025-03-18T02:00:41.627238000",
          "2025-03-19T02:00:42.215958000",
          "2025-03-20T02:00:40.336596000",
          "2025-03-21T02:00:39.806079000",
          "2025-03-22T02:00:38.026244000",
          "2025-03-23T02:00:37.624323000",
          "2025-03-24T02:00:37.234682000",
          "2025-03-25T02:00:38.613484000",
          "2025-03-26T02:00:44.207128000",
          "2025-03-27T02:00:37.504188000",
          "2025-03-28T02:00:40.911189000",
          "2025-03-29T02:00:36.831626000",
          "2025-05-05T11:56:41.644715000",
          "2025-05-05T12:11:06.929539000",
          "2025-05-05T12:20:03.139150000",
          "2025-05-06T01:00:41.223602000"
         ],
         "xaxis": "x",
         "y": {
          "bdata": "AAAAAACAR0AAAAAAAIBHQAAAAAAAgEdAAAAAAACAR0AAAAAAAIBHQFVVVVVVVUdAq6qqqqqqRkAAAAAAAIBGQAAAAAAAwEZAAAAAAAAAR0AAAAAAAABHQKuqqqqqqkdAVVVVVVXVR0AAAAAAAABIQAAAAAAAAEhAAAAAAAAgSEAAAAAAAIBIQFVVVVVVVUhAAAAAAAAgSEAAAAAAAABIQAAAAAAAgEdAMzMzMzMzSkBmZmZmZmZKQAAAAAAAgEpAZmZmZmZmSkAAAAAAAMBHQAAAAAAAAEhAAAAAAABgSEAAAAAAAOBHQAAAAAAAAEhAAAAAAACATUAAAAAAAIBNQAAAAAAAgEdAAAAAAAAATEA=",
          "dtype": "f8"
         },
         "yaxis": "y"
        },
        {
         "hovertemplate": "beruf=Pharmazeutisch-technische/r Assistent/in<br>timestamp=%{x}<br>stellen=%{y}<extra></extra>",
         "legendgroup": "Pharmazeutisch-technische/r Assistent/in",
         "line": {
          "color": "#FF6692",
          "dash": "solid"
         },
         "marker": {
          "symbol": "circle"
         },
         "mode": "lines",
         "name": "Pharmazeutisch-technische/r Assistent/in",
         "orientation": "v",
         "showlegend": true,
         "type": "scatter",
         "x": [
          "2025-03-04T19:23:16.264654000",
          "2025-03-04T20:41:18.771664000",
          "2025-03-04T20:57:20.070534000",
          "2025-03-04T21:02:37.978862000",
          "2025-03-04T21:19:21.182059000",
          "2025-03-05T02:00:42.588486000",
          "2025-03-06T02:00:39.875002000",
          "2025-03-07T02:00:37.701298000",
          "2025-03-09T02:00:34.378618000",
          "2025-03-10T02:00:39.092721000",
          "2025-03-18T02:00:41.627238000",
          "2025-03-19T02:00:42.215958000",
          "2025-03-20T02:00:40.336596000",
          "2025-03-21T02:00:39.806079000",
          "2025-03-22T02:00:38.026244000",
          "2025-03-23T02:00:37.624323000",
          "2025-03-24T02:00:37.234682000",
          "2025-03-25T02:00:38.613484000",
          "2025-03-26T02:00:44.207128000",
          "2025-03-27T02:00:37.504188000",
          "2025-03-28T02:00:40.911189000",
          "2025-03-29T02:00:36.831626000",
          "2025-05-05T11:56:41.644715000",
          "2025-05-05T12:11:06.929539000",
          "2025-05-05T12:20:03.139150000",
          "2025-05-06T01:00:41.223602000"
         ],
         "xaxis": "x",
         "y": {
          "bdata": "AAAAAACAR0AAAAAAAIBHQAAAAAAAgEdAAAAAAACAR0AAAAAAAIBHQAAAAAAAgEdAAAAAAAAAR0AAAAAAAABHQAAAAAAAgEZAAAAAAACARkAAAAAAAIBGQAAAAAAAgEhAAAAAAACASEAAAAAAAABIQAAAAAAAgEhAAAAAAACASEAAAAAAAIBIQAAAAAAAAEhAAAAAAAAASUAAAAAAAABJQAAAAAAAgElAAAAAAACASUAAAAAAAABHQAAAAAAAAEdAAAAAAAAAR0AAAAAAAABHQA==",
          "dtype": "f8"
         },
         "yaxis": "y"
        },
        {
         "hovertemplate": "beruf=Verwaltungsfachangestellte/r - Kommunalverwaltung<br>timestamp=%{x}<br>stellen=%{y}<extra></extra>",
         "legendgroup": "Verwaltungsfachangestellte/r - Kommunalverwaltung",
         "line": {
          "color": "#B6E880",
          "dash": "solid"
         },
         "marker": {
          "symbol": "circle"
         },
         "mode": "lines",
         "name": "Verwaltungsfachangestellte/r - Kommunalverwaltung",
         "orientation": "v",
         "showlegend": true,
         "type": "scatter",
         "x": [
          "2025-03-04T19:23:16.264654000",
          "2025-03-04T20:41:18.771664000",
          "2025-03-04T20:57:20.070534000",
          "2025-03-04T21:02:37.978862000",
          "2025-03-04T21:19:21.182059000",
          "2025-03-05T02:00:42.588486000",
          "2025-03-06T02:00:39.875002000",
          "2025-03-07T02:00:37.701298000",
          "2025-03-08T02:00:37.941081000",
          "2025-03-09T02:00:34.378618000",
          "2025-03-10T02:00:39.092721000",
          "2025-03-11T02:00:35.904417000",
          "2025-03-12T02:00:35.480836000",
          "2025-03-13T02:00:39.571861000",
          "2025-03-14T02:00:37.502181000",
          "2025-03-15T02:00:39.731097000",
          "2025-03-16T02:00:40.144076000",
          "2025-03-17T02:00:41.736131000",
          "2025-03-18T02:00:41.627238000",
          "2025-03-19T02:00:42.215958000",
          "2025-03-20T02:00:40.336596000",
          "2025-03-21T02:00:39.806079000",
          "2025-03-22T02:00:38.026244000",
          "2025-03-23T02:00:37.624323000",
          "2025-03-24T02:00:37.234682000",
          "2025-03-25T02:00:38.613484000",
          "2025-03-26T02:00:44.207128000",
          "2025-03-27T02:00:37.504188000",
          "2025-03-28T02:00:40.911189000",
          "2025-03-29T02:00:36.831626000",
          "2025-05-05T11:56:41.644715000",
          "2025-05-05T12:11:06.929539000",
          "2025-05-05T12:20:03.139150000",
          "2025-05-06T01:00:41.223602000"
         ],
         "xaxis": "x",
         "y": {
          "bdata": "AAAAAADwW0AAAAAAAPBbQAAAAAAA8FtAAAAAAADwW0AAAAAAAPBbQAAAAAAAcFtAAAAAAAAwXEAAAAAAAGBdQAAAAAAAIF1AAAAAAACAXEAAAAAAAEBaQAAAAAAAwFZAAAAAAACwW0AzMzMzM3NcQAAAAAAAYFpAVVVVVVWVW0CrqqqqqopZQAAAAAAAsFNAmpmZmZmZUUAAAAAAACBOQM3MzMzMTE5AJUmSJElSUUAAAAAAAAhXQKuqqqqqClhAAAAAAAAwUEAAAAAAAIBSQGZmZmZmZk1AAAAAAADAUkAAAAAAAHBQQAAAAAAAEFBAAAAAAAAgUUAAAAAAACBRQAAAAAAAIFFAAAAAAABAUEA=",
          "dtype": "f8"
         },
         "yaxis": "y"
        },
        {
         "hovertemplate": "beruf=Vertriebsberater/in<br>timestamp=%{x}<br>stellen=%{y}<extra></extra>",
         "legendgroup": "Vertriebsberater/in",
         "line": {
          "color": "#FF97FF",
          "dash": "solid"
         },
         "marker": {
          "symbol": "circle"
         },
         "mode": "lines",
         "name": "Vertriebsberater/in",
         "orientation": "v",
         "showlegend": true,
         "type": "scatter",
         "x": [
          "2025-03-06T02:00:39.875002000",
          "2025-03-07T02:00:37.701298000",
          "2025-03-08T02:00:37.941081000",
          "2025-03-09T02:00:34.378618000",
          "2025-03-10T02:00:39.092721000",
          "2025-03-11T02:00:35.904417000",
          "2025-03-12T02:00:35.480836000",
          "2025-03-13T02:00:39.571861000",
          "2025-03-14T02:00:37.502181000",
          "2025-03-15T02:00:39.731097000",
          "2025-03-16T02:00:40.144076000",
          "2025-03-17T02:00:41.736131000",
          "2025-03-18T02:00:41.627238000",
          "2025-03-19T02:00:42.215958000",
          "2025-03-20T02:00:40.336596000",
          "2025-03-21T02:00:39.806079000",
          "2025-03-22T02:00:38.026244000",
          "2025-03-23T02:00:37.624323000",
          "2025-03-24T02:00:37.234682000",
          "2025-03-25T02:00:38.613484000",
          "2025-03-26T02:00:44.207128000",
          "2025-03-27T02:00:37.504188000",
          "2025-03-28T02:00:40.911189000",
          "2025-03-29T02:00:36.831626000",
          "2025-05-05T11:56:41.644715000",
          "2025-05-05T12:11:06.929539000",
          "2025-05-05T12:20:03.139150000",
          "2025-05-06T01:00:41.223602000"
         ],
         "xaxis": "x",
         "y": {
          "bdata": "AAAAAACgVEAAAAAAAABMQAAAAAAAIFVAAAAAAAAgVUAAAAAAAMBUQAAAAAAAYFVAAAAAAABgVUAAAAAAAKBVQAAAAAAAoFVAAAAAAADgVUAAAAAAAOBVQAAAAAAAwFVAAAAAAABAVkAAAAAAAEBWQAAAAAAAgFJAAAAAAABgVkAAAAAAAKBWQAAAAAAAoFZAAAAAAACAVkAAAAAAAABWQAAAAAAAIFZAq6qqqqqqUkAAAAAAAMBSQFVVVVVV1VJAMzMzMzOzT0AzMzMzM7NPQAAAAAAAwFBAAAAAAAAwUUA=",
          "dtype": "f8"
         },
         "yaxis": "y"
        },
        {
         "hovertemplate": "beruf=Lehrer/in - Schularten der Sekundarstufe I<br>timestamp=%{x}<br>stellen=%{y}<extra></extra>",
         "legendgroup": "Lehrer/in - Schularten der Sekundarstufe I",
         "line": {
          "color": "#FECB52",
          "dash": "solid"
         },
         "marker": {
          "symbol": "circle"
         },
         "mode": "lines",
         "name": "Lehrer/in - Schularten der Sekundarstufe I",
         "orientation": "v",
         "showlegend": true,
         "type": "scatter",
         "x": [
          "2025-03-24T02:00:37.234682000",
          "2025-03-25T02:00:38.613484000",
          "2025-03-26T02:00:44.207128000",
          "2025-03-27T02:00:37.504188000",
          "2025-03-28T02:00:40.911189000",
          "2025-03-29T02:00:36.831626000",
          "2025-05-05T11:56:41.644715000",
          "2025-05-05T12:11:06.929539000",
          "2025-05-06T01:00:41.223602000"
         ],
         "xaxis": "x",
         "y": {
          "bdata": "AAAAAABwc0AAAAAAABBzQAAAAAAAEHRAAAAAAAAQdEAAAAAAACB0QAAAAAAA0HNAAAAAAABgYUAAAAAAAGBhQAAAAAAAgGFA",
          "dtype": "f8"
         },
         "yaxis": "y"
        }
       ],
       "layout": {
        "legend": {
         "title": {
          "text": "beruf"
         },
         "tracegroupgap": 0
        },
        "margin": {
         "t": 60
        },
        "template": {
         "data": {
          "bar": [
           {
            "error_x": {
             "color": "#2a3f5f"
            },
            "error_y": {
             "color": "#2a3f5f"
            },
            "marker": {
             "line": {
              "color": "#E5ECF6",
              "width": 0.5
             },
             "pattern": {
              "fillmode": "overlay",
              "size": 10,
              "solidity": 0.2
             }
            },
            "type": "bar"
           }
          ],
          "barpolar": [
           {
            "marker": {
             "line": {
              "color": "#E5ECF6",
              "width": 0.5
             },
             "pattern": {
              "fillmode": "overlay",
              "size": 10,
              "solidity": 0.2
             }
            },
            "type": "barpolar"
           }
          ],
          "carpet": [
           {
            "aaxis": {
             "endlinecolor": "#2a3f5f",
             "gridcolor": "white",
             "linecolor": "white",
             "minorgridcolor": "white",
             "startlinecolor": "#2a3f5f"
            },
            "baxis": {
             "endlinecolor": "#2a3f5f",
             "gridcolor": "white",
             "linecolor": "white",
             "minorgridcolor": "white",
             "startlinecolor": "#2a3f5f"
            },
            "type": "carpet"
           }
          ],
          "choropleth": [
           {
            "colorbar": {
             "outlinewidth": 0,
             "ticks": ""
            },
            "type": "choropleth"
           }
          ],
          "contour": [
           {
            "colorbar": {
             "outlinewidth": 0,
             "ticks": ""
            },
            "colorscale": [
             [
              0,
              "#0d0887"
             ],
             [
              0.1111111111111111,
              "#46039f"
             ],
             [
              0.2222222222222222,
              "#7201a8"
             ],
             [
              0.3333333333333333,
              "#9c179e"
             ],
             [
              0.4444444444444444,
              "#bd3786"
             ],
             [
              0.5555555555555556,
              "#d8576b"
             ],
             [
              0.6666666666666666,
              "#ed7953"
             ],
             [
              0.7777777777777778,
              "#fb9f3a"
             ],
             [
              0.8888888888888888,
              "#fdca26"
             ],
             [
              1,
              "#f0f921"
             ]
            ],
            "type": "contour"
           }
          ],
          "contourcarpet": [
           {
            "colorbar": {
             "outlinewidth": 0,
             "ticks": ""
            },
            "type": "contourcarpet"
           }
          ],
          "heatmap": [
           {
            "colorbar": {
             "outlinewidth": 0,
             "ticks": ""
            },
            "colorscale": [
             [
              0,
              "#0d0887"
             ],
             [
              0.1111111111111111,
              "#46039f"
             ],
             [
              0.2222222222222222,
              "#7201a8"
             ],
             [
              0.3333333333333333,
              "#9c179e"
             ],
             [
              0.4444444444444444,
              "#bd3786"
             ],
             [
              0.5555555555555556,
              "#d8576b"
             ],
             [
              0.6666666666666666,
              "#ed7953"
             ],
             [
              0.7777777777777778,
              "#fb9f3a"
             ],
             [
              0.8888888888888888,
              "#fdca26"
             ],
             [
              1,
              "#f0f921"
             ]
            ],
            "type": "heatmap"
           }
          ],
          "histogram": [
           {
            "marker": {
             "pattern": {
              "fillmode": "overlay",
              "size": 10,
              "solidity": 0.2
             }
            },
            "type": "histogram"
           }
          ],
          "histogram2d": [
           {
            "colorbar": {
             "outlinewidth": 0,
             "ticks": ""
            },
            "colorscale": [
             [
              0,
              "#0d0887"
             ],
             [
              0.1111111111111111,
              "#46039f"
             ],
             [
              0.2222222222222222,
              "#7201a8"
             ],
             [
              0.3333333333333333,
              "#9c179e"
             ],
             [
              0.4444444444444444,
              "#bd3786"
             ],
             [
              0.5555555555555556,
              "#d8576b"
             ],
             [
              0.6666666666666666,
              "#ed7953"
             ],
             [
              0.7777777777777778,
              "#fb9f3a"
             ],
             [
              0.8888888888888888,
              "#fdca26"
             ],
             [
              1,
              "#f0f921"
             ]
            ],
            "type": "histogram2d"
           }
          ],
          "histogram2dcontour": [
           {
            "colorbar": {
             "outlinewidth": 0,
             "ticks": ""
            },
            "colorscale": [
             [
              0,
              "#0d0887"
             ],
             [
              0.1111111111111111,
              "#46039f"
             ],
             [
              0.2222222222222222,
              "#7201a8"
             ],
             [
              0.3333333333333333,
              "#9c179e"
             ],
             [
              0.4444444444444444,
              "#bd3786"
             ],
             [
              0.5555555555555556,
              "#d8576b"
             ],
             [
              0.6666666666666666,
              "#ed7953"
             ],
             [
              0.7777777777777778,
              "#fb9f3a"
             ],
             [
              0.8888888888888888,
              "#fdca26"
             ],
             [
              1,
              "#f0f921"
             ]
            ],
            "type": "histogram2dcontour"
           }
          ],
          "mesh3d": [
           {
            "colorbar": {
             "outlinewidth": 0,
             "ticks": ""
            },
            "type": "mesh3d"
           }
          ],
          "parcoords": [
           {
            "line": {
             "colorbar": {
              "outlinewidth": 0,
              "ticks": ""
             }
            },
            "type": "parcoords"
           }
          ],
          "pie": [
           {
            "automargin": true,
            "type": "pie"
           }
          ],
          "scatter": [
           {
            "fillpattern": {
             "fillmode": "overlay",
             "size": 10,
             "solidity": 0.2
            },
            "type": "scatter"
           }
          ],
          "scatter3d": [
           {
            "line": {
             "colorbar": {
              "outlinewidth": 0,
              "ticks": ""
             }
            },
            "marker": {
             "colorbar": {
              "outlinewidth": 0,
              "ticks": ""
             }
            },
            "type": "scatter3d"
           }
          ],
          "scattercarpet": [
           {
            "marker": {
             "colorbar": {
              "outlinewidth": 0,
              "ticks": ""
             }
            },
            "type": "scattercarpet"
           }
          ],
          "scattergeo": [
           {
            "marker": {
             "colorbar": {
              "outlinewidth": 0,
              "ticks": ""
             }
            },
            "type": "scattergeo"
           }
          ],
          "scattergl": [
           {
            "marker": {
             "colorbar": {
              "outlinewidth": 0,
              "ticks": ""
             }
            },
            "type": "scattergl"
           }
          ],
          "scattermap": [
           {
            "marker": {
             "colorbar": {
              "outlinewidth": 0,
              "ticks": ""
             }
            },
            "type": "scattermap"
           }
          ],
          "scattermapbox": [
           {
            "marker": {
             "colorbar": {
              "outlinewidth": 0,
              "ticks": ""
             }
            },
            "type": "scattermapbox"
           }
          ],
          "scatterpolar": [
           {
            "marker": {
             "colorbar": {
              "outlinewidth": 0,
              "ticks": ""
             }
            },
            "type": "scatterpolar"
           }
          ],
          "scatterpolargl": [
           {
            "marker": {
             "colorbar": {
              "outlinewidth": 0,
              "ticks": ""
             }
            },
            "type": "scatterpolargl"
           }
          ],
          "scatterternary": [
           {
            "marker": {
             "colorbar": {
              "outlinewidth": 0,
              "ticks": ""
             }
            },
            "type": "scatterternary"
           }
          ],
          "surface": [
           {
            "colorbar": {
             "outlinewidth": 0,
             "ticks": ""
            },
            "colorscale": [
             [
              0,
              "#0d0887"
             ],
             [
              0.1111111111111111,
              "#46039f"
             ],
             [
              0.2222222222222222,
              "#7201a8"
             ],
             [
              0.3333333333333333,
              "#9c179e"
             ],
             [
              0.4444444444444444,
              "#bd3786"
             ],
             [
              0.5555555555555556,
              "#d8576b"
             ],
             [
              0.6666666666666666,
              "#ed7953"
             ],
             [
              0.7777777777777778,
              "#fb9f3a"
             ],
             [
              0.8888888888888888,
              "#fdca26"
             ],
             [
              1,
              "#f0f921"
             ]
            ],
            "type": "surface"
           }
          ],
          "table": [
           {
            "cells": {
             "fill": {
              "color": "#EBF0F8"
             },
             "line": {
              "color": "white"
             }
            },
            "header": {
             "fill": {
              "color": "#C8D4E3"
             },
             "line": {
              "color": "white"
             }
            },
            "type": "table"
           }
          ]
         },
         "layout": {
          "annotationdefaults": {
           "arrowcolor": "#2a3f5f",
           "arrowhead": 0,
           "arrowwidth": 1
          },
          "autotypenumbers": "strict",
          "coloraxis": {
           "colorbar": {
            "outlinewidth": 0,
            "ticks": ""
           }
          },
          "colorscale": {
           "diverging": [
            [
             0,
             "#8e0152"
            ],
            [
             0.1,
             "#c51b7d"
            ],
            [
             0.2,
             "#de77ae"
            ],
            [
             0.3,
             "#f1b6da"
            ],
            [
             0.4,
             "#fde0ef"
            ],
            [
             0.5,
             "#f7f7f7"
            ],
            [
             0.6,
             "#e6f5d0"
            ],
            [
             0.7,
             "#b8e186"
            ],
            [
             0.8,
             "#7fbc41"
            ],
            [
             0.9,
             "#4d9221"
            ],
            [
             1,
             "#276419"
            ]
           ],
           "sequential": [
            [
             0,
             "#0d0887"
            ],
            [
             0.1111111111111111,
             "#46039f"
            ],
            [
             0.2222222222222222,
             "#7201a8"
            ],
            [
             0.3333333333333333,
             "#9c179e"
            ],
            [
             0.4444444444444444,
             "#bd3786"
            ],
            [
             0.5555555555555556,
             "#d8576b"
            ],
            [
             0.6666666666666666,
             "#ed7953"
            ],
            [
             0.7777777777777778,
             "#fb9f3a"
            ],
            [
             0.8888888888888888,
             "#fdca26"
            ],
            [
             1,
             "#f0f921"
            ]
           ],
           "sequentialminus": [
            [
             0,
             "#0d0887"
            ],
            [
             0.1111111111111111,
             "#46039f"
            ],
            [
             0.2222222222222222,
             "#7201a8"
            ],
            [
             0.3333333333333333,
             "#9c179e"
            ],
            [
             0.4444444444444444,
             "#bd3786"
            ],
            [
             0.5555555555555556,
             "#d8576b"
            ],
            [
             0.6666666666666666,
             "#ed7953"
            ],
            [
             0.7777777777777778,
             "#fb9f3a"
            ],
            [
             0.8888888888888888,
             "#fdca26"
            ],
            [
             1,
             "#f0f921"
            ]
           ]
          },
          "colorway": [
           "#636efa",
           "#EF553B",
           "#00cc96",
           "#ab63fa",
           "#FFA15A",
           "#19d3f3",
           "#FF6692",
           "#B6E880",
           "#FF97FF",
           "#FECB52"
          ],
          "font": {
           "color": "#2a3f5f"
          },
          "geo": {
           "bgcolor": "white",
           "lakecolor": "white",
           "landcolor": "#E5ECF6",
           "showlakes": true,
           "showland": true,
           "subunitcolor": "white"
          },
          "hoverlabel": {
           "align": "left"
          },
          "hovermode": "closest",
          "mapbox": {
           "style": "light"
          },
          "paper_bgcolor": "white",
          "plot_bgcolor": "#E5ECF6",
          "polar": {
           "angularaxis": {
            "gridcolor": "white",
            "linecolor": "white",
            "ticks": ""
           },
           "bgcolor": "#E5ECF6",
           "radialaxis": {
            "gridcolor": "white",
            "linecolor": "white",
            "ticks": ""
           }
          },
          "scene": {
           "xaxis": {
            "backgroundcolor": "#E5ECF6",
            "gridcolor": "white",
            "gridwidth": 2,
            "linecolor": "white",
            "showbackground": true,
            "ticks": "",
            "zerolinecolor": "white"
           },
           "yaxis": {
            "backgroundcolor": "#E5ECF6",
            "gridcolor": "white",
            "gridwidth": 2,
            "linecolor": "white",
            "showbackground": true,
            "ticks": "",
            "zerolinecolor": "white"
           },
           "zaxis": {
            "backgroundcolor": "#E5ECF6",
            "gridcolor": "white",
            "gridwidth": 2,
            "linecolor": "white",
            "showbackground": true,
            "ticks": "",
            "zerolinecolor": "white"
           }
          },
          "shapedefaults": {
           "line": {
            "color": "#2a3f5f"
           }
          },
          "ternary": {
           "aaxis": {
            "gridcolor": "white",
            "linecolor": "white",
            "ticks": ""
           },
           "baxis": {
            "gridcolor": "white",
            "linecolor": "white",
            "ticks": ""
           },
           "bgcolor": "#E5ECF6",
           "caxis": {
            "gridcolor": "white",
            "linecolor": "white",
            "ticks": ""
           }
          },
          "title": {
           "x": 0.05
          },
          "xaxis": {
           "automargin": true,
           "gridcolor": "white",
           "linecolor": "white",
           "ticks": "",
           "title": {
            "standoff": 15
           },
           "zerolinecolor": "white",
           "zerolinewidth": 2
          },
          "yaxis": {
           "automargin": true,
           "gridcolor": "white",
           "linecolor": "white",
           "ticks": "",
           "title": {
            "standoff": 15
           },
           "zerolinecolor": "white",
           "zerolinewidth": 2
          }
         }
        },
        "xaxis": {
         "anchor": "y",
         "domain": [
          0,
          1
         ],
         "title": {
          "text": "timestamp"
         }
        },
        "yaxis": {
         "anchor": "x",
         "domain": [
          0,
          1
         ],
         "title": {
          "text": "stellen"
         }
        }
       }
      }
     },
     "metadata": {},
     "output_type": "display_data"
    }
   ],
   "source": [
    "df_temp = df.copy().groupby(['timestamp',param_select],as_index=False)['stellen'].mean()\n",
    "\n",
    "professions = pd.Series(df_temp[param_select].unique()).sample(10)\n",
    "\n",
    "df_temp = df_temp[df_temp[param_select].isin(professions)]\n",
    "\n",
    "px.line(df_temp,\n",
    "        x='timestamp',\n",
    "        y='stellen',\n",
    "        color=param_select)"
   ]
  },
  {
   "cell_type": "markdown",
   "id": "8c7bdff4",
   "metadata": {},
   "source": [
    "---\n",
    "\n",
    "## Multiple queries / store\n",
    "\n",
    "To query all tables and store them as parquet files, the following blocks are used:"
   ]
  },
  {
   "cell_type": "code",
   "execution_count": 80,
   "id": "8011aa4e",
   "metadata": {},
   "outputs": [],
   "source": [
    "# Suffix for all tables\n",
    "params = ['arbeitgeber',\n",
    "          'arbeitsort_plz',\n",
    "          'arbeitszeit',\n",
    "          'befristung',\n",
    "          'beruf',\n",
    "          'branche'\n",
    "          ]"
   ]
  },
  {
   "cell_type": "code",
   "execution_count": null,
   "id": "76d7dc76",
   "metadata": {},
   "outputs": [],
   "source": [
    "# Go through all tables, query them and save the content as parquet-files\n",
    "for param_select in params:\n",
    "    # Query data\n",
    "    df = execute_sql_query(param_select)\n",
    "    # Define filepath to save\n",
    "    filepath = f\"../frontend_streamlit/data/AusbildungMining/ArbeitsagenturMining_Arbeit_{param_select}_2025-05-05.parquet\"\n",
    "    # Save table as parquet\n",
    "    df.to_parquet(filepath)"
   ]
  }
 ],
 "metadata": {
  "kernelspec": {
   "display_name": "bigdata",
   "language": "python",
   "name": "python3"
  },
  "language_info": {
   "codemirror_mode": {
    "name": "ipython",
    "version": 3
   },
   "file_extension": ".py",
   "mimetype": "text/x-python",
   "name": "python",
   "nbconvert_exporter": "python",
   "pygments_lexer": "ipython3",
   "version": "3.12.9"
  }
 },
 "nbformat": 4,
 "nbformat_minor": 5
}
